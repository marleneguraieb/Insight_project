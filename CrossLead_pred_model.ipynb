{
 "cells": [
  {
   "cell_type": "markdown",
   "metadata": {},
   "source": [
    "# Dependencies and global options"
   ]
  },
  {
   "cell_type": "code",
   "execution_count": 1,
   "metadata": {
    "collapsed": true
   },
   "outputs": [],
   "source": [
    "#%reset\n",
    "import glob\n",
    "import os\n",
    "import pandas as pd\n",
    "import re\n",
    "import numpy as np\n",
    "import matplotlib as mpl\n",
    "import matplotlib.pyplot as plt\n",
    "import types\n",
    "import warnings\n",
    "import itertools"
   ]
  },
  {
   "cell_type": "code",
   "execution_count": 2,
   "metadata": {
    "collapsed": true
   },
   "outputs": [],
   "source": [
    "pd.set_option('display.max_colwidth', -1)\n",
    "pd.options.display.max_columns = None"
   ]
  },
  {
   "cell_type": "markdown",
   "metadata": {},
   "source": [
    "## (Extra) Dependencies for BoW Model:"
   ]
  },
  {
   "cell_type": "code",
   "execution_count": 3,
   "metadata": {
    "collapsed": true
   },
   "outputs": [],
   "source": [
    "from sklearn.feature_extraction.text import TfidfVectorizer\n",
    "from sklearn.base import TransformerMixin\n",
    "from sklearn.pipeline import Pipeline\n",
    "from sklearn.svm import LinearSVC\n",
    "from sklearn.feature_extraction.stop_words import ENGLISH_STOP_WORDS\n",
    "from sklearn.metrics import accuracy_score\n",
    "from sklearn.model_selection import train_test_split\n",
    "from nltk.corpus import stopwords\n",
    "import string\n",
    "from spacy.en import English\n",
    "import spacy"
   ]
  },
  {
   "cell_type": "markdown",
   "metadata": {},
   "source": [
    "## (Extra) Dependencies for text models:"
   ]
  },
  {
   "cell_type": "code",
   "execution_count": 4,
   "metadata": {
    "collapsed": true
   },
   "outputs": [],
   "source": [
    "from sklearn import preprocessing\n",
    "from sklearn.tree import DecisionTreeClassifier\n",
    "from sklearn.metrics import classification_report\n",
    "from sklearn.ensemble import AdaBoostClassifier\n",
    "from sklearn.neighbors import KNeighborsClassifier\n",
    "from sklearn.metrics import  confusion_matrix\n",
    "import mord as m\n",
    "from wordcloud import WordCloud\n",
    "import random"
   ]
  },
  {
   "cell_type": "markdown",
   "metadata": {},
   "source": [
    "## NLP functions"
   ]
  },
  {
   "cell_type": "code",
   "execution_count": 5,
   "metadata": {
    "collapsed": true
   },
   "outputs": [],
   "source": [
    "parser = English()\n",
    "nlp = spacy.load('en')"
   ]
  },
  {
   "cell_type": "markdown",
   "metadata": {},
   "source": [
    "# Querying databases and importing data"
   ]
  },
  {
   "cell_type": "markdown",
   "metadata": {},
   "source": [
    "First I import all their data as a dictionary of datasets from which I will extract the features for different models. The files are all in the dicrectory ``/raw_data``: "
   ]
  },
  {
   "cell_type": "code",
   "execution_count": 6,
   "metadata": {
    "collapsed": true
   },
   "outputs": [],
   "source": [
    "path =r'raw_data' # use your path\n",
    "allFiles = glob.glob(path + \"/*.csv\")\n",
    "frame = pd.DataFrame()\n",
    "databases = {}\n",
    "for file_ in allFiles:\n",
    "    df = pd.read_csv(file_,index_col=None, header=0,low_memory=False)\n",
    "    databases[re.sub(r'\\W.*','',re.sub(r'.*/', '', file_))] = df"
   ]
  },
  {
   "cell_type": "markdown",
   "metadata": {},
   "source": [
    "An instance of this data (an item) is a business objective, and the model will try to predict whether the objective will be completed or not by extracting various types of features from the natural language description of the objective and the non-text data associated with it in the CrossLead database. The dataset starts with a unique identifyier for the objective, called ```_id```"
   ]
  },
  {
   "cell_type": "code",
   "execution_count": 7,
   "metadata": {
    "collapsed": true
   },
   "outputs": [],
   "source": [
    "item_id = databases['triangleLayerItems']._id\n",
    "layer_id = databases['triangleLayerItems'].triangleLayerId\n",
    "data = pd.concat([item_id,layer_id],axis=1)"
   ]
  },
  {
   "cell_type": "markdown",
   "metadata": {},
   "source": [
    "## Building target variable"
   ]
  },
  {
   "cell_type": "markdown",
   "metadata": {},
   "source": [
    "The target variable will be user updated 'percentage complete', which is done by extracting from the status update list for each objective the last instance of percentage complete:"
   ]
  },
  {
   "cell_type": "code",
   "execution_count": 8,
   "metadata": {
    "collapsed": false
   },
   "outputs": [
    {
     "data": {
      "text/plain": [
       "'[{\"createdAt\":{\"$date\":\"2015-06-11T17:14:26.220Z\"},\"updatedAt\":{\"$date\":\"2015-06-11T17:14:26.220Z\"},\"percent\":0,\"color\":2,\"type\":1},{\"createdAt\":{\"$date\":\"2015-06-11T17:14:26.220Z\"},\"updatedAt\":{\"$date\":\"2015-06-11T17:14:31.015Z\"},\"percent\":0,\"color\":1,\"type\":1},{\"createdAt\":{\"$date\":\"2015-06-11T17:14:26.220Z\"},\"updatedAt\":{\"$date\":\"2015-07-16T18:43:26.024Z\"},\"percent\":0,\"color\":2,\"type\":1},{\"createdAt\":{\"$date\":\"2015-06-11T17:14:26.220Z\"},\"updatedAt\":{\"$date\":\"2015-07-17T20:18:40.201Z\"},\"percent\":0,\"color\":2,\"type\":1},{\"updatedAt\":{\"$date\":\"2015-10-01T19:18:03.455Z\"},\"percent\":50,\"color\":1,\"type\":1,\"id\":{\"$oid\":\"560d86eb7a9c381622ea7be6\"}}]'"
      ]
     },
     "execution_count": 8,
     "metadata": {},
     "output_type": "execute_result"
    }
   ],
   "source": [
    "databases['triangleLayerItems'].statuses[5]"
   ]
  },
  {
   "cell_type": "code",
   "execution_count": 9,
   "metadata": {
    "collapsed": true
   },
   "outputs": [],
   "source": [
    "data['fin_status'] = databases['triangleLayerItems'].statuses.str.replace(r'.*\"percent\":', '').str.replace(r',.*','')\n",
    "data['fin_status'] = pd.to_numeric(data['fin_status'],errors='coerce')"
   ]
  },
  {
   "cell_type": "code",
   "execution_count": 10,
   "metadata": {
    "collapsed": false
   },
   "outputs": [
    {
     "data": {
      "image/png": "[encoded data removed]",
      "text/plain": [
       "<matplotlib.figure.Figure at 0x213b5e278>"
      ]
     },
     "metadata": {},
     "output_type": "display_data"
    }
   ],
   "source": [
    "#Visualization of target variable:\n",
    "plt.hist(data['fin_status'].dropna(),color='blue',range=(0, 100))\n",
    "plt.title(\"Completed status\")\n",
    "plt.xlabel(\"Percent complete\")\n",
    "plt.ylabel(\"Frequency\")\n",
    "plt.show()"
   ]
  },
  {
   "cell_type": "code",
   "execution_count": 11,
   "metadata": {
    "collapsed": false
   },
   "outputs": [
    {
     "data": {
      "text/plain": [
       "2753"
      ]
     },
     "execution_count": 11,
     "metadata": {},
     "output_type": "execute_result"
    }
   ],
   "source": [
    "#Plus a large number of missing values:\n",
    "data['fin_status'].isnull().sum()"
   ]
  },
  {
   "cell_type": "markdown",
   "metadata": {},
   "source": [
    "I will bin the target variable into four classes: NA's, Zeroes, (0,50], and (50-100]:"
   ]
  },
  {
   "cell_type": "code",
   "execution_count": 12,
   "metadata": {
    "collapsed": true
   },
   "outputs": [],
   "source": [
    "data.loc[data.loc[:,'fin_status'].isnull()==True,'completed'] = int(1)\n",
    "data.loc[(data.loc[:,'fin_status']==0),'completed'] = 2\n",
    "data.loc[(data.loc[:,'fin_status']>0) & (data.loc[:,'fin_status']<=50),'completed'] = int(3)\n",
    "data.loc[(data.loc[:,'fin_status']>50),'completed'] = int(4)"
   ]
  },
  {
   "cell_type": "markdown",
   "metadata": {},
   "source": [
    "Also, get rid of the pesky float type for 'completed'"
   ]
  },
  {
   "cell_type": "code",
   "execution_count": 13,
   "metadata": {
    "collapsed": false
   },
   "outputs": [],
   "source": [
    "data.completed = data.completed.astype(int)"
   ]
  },
  {
   "cell_type": "code",
   "execution_count": 14,
   "metadata": {
    "collapsed": false
   },
   "outputs": [
    {
     "data": {
      "text/plain": [
       "1    2753\n",
       "2    2589\n",
       "3    978 \n",
       "4    865 \n",
       "Name: completed, dtype: int64"
      ]
     },
     "execution_count": 14,
     "metadata": {},
     "output_type": "execute_result"
    }
   ],
   "source": [
    "data.completed.value_counts()"
   ]
  },
  {
   "cell_type": "markdown",
   "metadata": {},
   "source": [
    "## Getting text variable"
   ]
  },
  {
   "cell_type": "code",
   "execution_count": 15,
   "metadata": {
    "collapsed": true
   },
   "outputs": [],
   "source": [
    "data['item_name'] = databases['triangleLayerItems'].name"
   ]
  },
  {
   "cell_type": "code",
   "execution_count": 16,
   "metadata": {
    "collapsed": false
   },
   "outputs": [
    {
     "data": {
      "text/plain": [
       "(7185, 5)"
      ]
     },
     "execution_count": 16,
     "metadata": {},
     "output_type": "execute_result"
    }
   ],
   "source": [
    "data.shape"
   ]
  },
  {
   "cell_type": "markdown",
   "metadata": {},
   "source": [
    "## Getting dates to cut this (empty)"
   ]
  },
  {
   "cell_type": "markdown",
   "metadata": {},
   "source": [
    "## Non-text features"
   ]
  },
  {
   "cell_type": "markdown",
   "metadata": {},
   "source": [
    "First, I'm going to need the Layer Id of the objective:"
   ]
  },
  {
   "cell_type": "markdown",
   "metadata": {},
   "source": [
    "### Number of 'watchers' and 'dependencies' an objective has:"
   ]
  },
  {
   "cell_type": "code",
   "execution_count": 17,
   "metadata": {
    "collapsed": false
   },
   "outputs": [
    {
     "data": {
      "text/plain": [
       "1    3919\n",
       "0    1909\n",
       "2    1065\n",
       "3    201 \n",
       "4    51  \n",
       "5    25  \n",
       "6    11  \n",
       "7    4   \n",
       "Name: watchers, dtype: int64"
      ]
     },
     "execution_count": 17,
     "metadata": {},
     "output_type": "execute_result"
    }
   ],
   "source": [
    "data['watchers'] = [str(element).count('oid') for element in databases['triangleLayerItems'].watchers]\n",
    "data.watchers.value_counts()"
   ]
  },
  {
   "cell_type": "code",
   "execution_count": 18,
   "metadata": {
    "collapsed": false
   },
   "outputs": [],
   "source": [
    "data['dependenciesN'] = [str(element).count('created') for element in databases['triangleLayerItems'].dependencies]\n",
    "#data['dependenciesN'].value_counts()"
   ]
  },
  {
   "cell_type": "markdown",
   "metadata": {},
   "source": [
    "### Labels"
   ]
  },
  {
   "cell_type": "code",
   "execution_count": 19,
   "metadata": {
    "collapsed": true
   },
   "outputs": [],
   "source": [
    "TLIlabels = sorted([item.lower() for item in databases['triangleLayers'].label.unique()])"
   ]
  },
  {
   "cell_type": "code",
   "execution_count": 20,
   "metadata": {
    "collapsed": true
   },
   "outputs": [],
   "source": [
    "TLImap = ['objective','other','other','strategy','principle','principle','initiative','initiative',\n",
    "          'initiative','metric','metric','metric','metric','metric','mission','mission','objective',\n",
    "          'objective','mission','value','vision','metric','value','other','other','other','objective',\n",
    "          'principle','strategy','strategy','strategy','strategy','metric','metric','metric','other','other',\n",
    "          'mission','value','vision','vision','vision','vision']"
   ]
  },
  {
   "cell_type": "code",
   "execution_count": 21,
   "metadata": {
    "collapsed": true
   },
   "outputs": [],
   "source": [
    "labelDict = {}\n",
    "for label,value in zip(TLIlabels,TLImap):\n",
    "    labelDict[label] = value"
   ]
  },
  {
   "cell_type": "code",
   "execution_count": 22,
   "metadata": {
    "collapsed": true
   },
   "outputs": [],
   "source": [
    "gen = data.iterrows()\n",
    "labels = []\n",
    "order = []\n",
    "for index,row in gen:\n",
    "    try:\n",
    "        labels.append(databases['triangleLayers'].loc[(databases['triangleLayers']._id == row['triangleLayerId']),\n",
    "                                                      'label'].item())\n",
    "    except:\n",
    "        labels.append(np.nan)\n",
    "    try:\n",
    "        order.append(databases['triangleLayers'].loc[(databases['triangleLayers']._id == row['triangleLayerId']),\n",
    "                                                      'order'].item())\n",
    "    except:\n",
    "        order.append(np.nan)"
   ]
  },
  {
   "cell_type": "code",
   "execution_count": 23,
   "metadata": {
    "collapsed": false
   },
   "outputs": [],
   "source": [
    "data['labels'] = labels\n",
    "data['labels'] = data['labels'].str.lower().map(labelDict)"
   ]
  },
  {
   "cell_type": "code",
   "execution_count": 24,
   "metadata": {
    "collapsed": false
   },
   "outputs": [
    {
     "data": {
      "text/plain": [
       "initiative    2273\n",
       "metric        1115\n",
       "strategy      849 \n",
       "objective     526 \n",
       "other         521 \n",
       "principle     97  \n",
       "vision        40  \n",
       "value         34  \n",
       "mission       32  \n",
       "Name: labels, dtype: int64"
      ]
     },
     "execution_count": 24,
     "metadata": {},
     "output_type": "execute_result"
    }
   ],
   "source": [
    "data['labels'].value_counts()"
   ]
  },
  {
   "cell_type": "markdown",
   "metadata": {},
   "source": [
    "Make label even smaller by grouping the top level types (value,vision, mission, principle) into 'mvvp' label, and get NoLabel also as a category (empty string):"
   ]
  },
  {
   "cell_type": "code",
   "execution_count": 25,
   "metadata": {
    "collapsed": true
   },
   "outputs": [],
   "source": [
    "#make new dictionary:\n",
    "labelDict_comp = {'initiative':'initiative', 'strategy':'strategy', 'objective':'objective', \n",
    "                  'vision':'pvvm', 'principle':'pvvm',\n",
    "       'metric':'metric', 'other':'other', 'mission':'pvvm', 'value':'pvvm'}"
   ]
  },
  {
   "cell_type": "code",
   "execution_count": 26,
   "metadata": {
    "collapsed": false
   },
   "outputs": [
    {
     "data": {
      "text/plain": [
       "initiative    2273\n",
       "              1698\n",
       "metric        1115\n",
       "strategy      849 \n",
       "objective     526 \n",
       "other         521 \n",
       "pvvm          203 \n",
       "Name: labels, dtype: int64"
      ]
     },
     "execution_count": 26,
     "metadata": {},
     "output_type": "execute_result"
    }
   ],
   "source": [
    "data['labels'] = data['labels'].map(labelDict_comp)\n",
    "data['labels'] = data['labels'].fillna('')\n",
    "data['labels'].value_counts()"
   ]
  },
  {
   "cell_type": "code",
   "execution_count": 27,
   "metadata": {
    "collapsed": true
   },
   "outputs": [],
   "source": [
    "data['order'] = order\n",
    "data['userId'] = databases['triangleLayerItems'].userId"
   ]
  },
  {
   "cell_type": "markdown",
   "metadata": {},
   "source": [
    "Labels is a categorical variable, so I have to create dummies:"
   ]
  },
  {
   "cell_type": "code",
   "execution_count": 28,
   "metadata": {
    "collapsed": false
   },
   "outputs": [
    {
     "data": {
      "text/plain": [
       "Index(['label_', 'label_initiative', 'label_metric', 'label_objective',\n",
       "       'label_other', 'label_pvvm', 'label_strategy'],\n",
       "      dtype='object')"
      ]
     },
     "execution_count": 28,
     "metadata": {},
     "output_type": "execute_result"
    }
   ],
   "source": [
    "label_ranks = pd.get_dummies(data['labels'].astype('category').values, prefix='label')\n",
    "label_ranks.columns"
   ]
  },
  {
   "cell_type": "code",
   "execution_count": 29,
   "metadata": {
    "collapsed": true
   },
   "outputs": [],
   "source": [
    "data = data.drop('labels',axis=1).join(label_ranks.ix[:, 'label_initiative':])"
   ]
  },
  {
   "cell_type": "markdown",
   "metadata": {},
   "source": [
    "## Get scores for 'owner of the objective'"
   ]
  },
  {
   "cell_type": "code",
   "execution_count": 30,
   "metadata": {
    "collapsed": true
   },
   "outputs": [],
   "source": [
    "users = databases['users']"
   ]
  },
  {
   "cell_type": "code",
   "execution_count": 31,
   "metadata": {
    "collapsed": true
   },
   "outputs": [],
   "source": [
    "users = users[['_id','emailLower']]"
   ]
  },
  {
   "cell_type": "code",
   "execution_count": 32,
   "metadata": {
    "collapsed": true
   },
   "outputs": [],
   "source": [
    "scores = pd.read_csv('user_scores.csv')"
   ]
  },
  {
   "cell_type": "code",
   "execution_count": 33,
   "metadata": {
    "collapsed": false
   },
   "outputs": [
    {
     "data": {
      "text/plain": [
       "Index(['Email', 'Info', 'Energy', 'Access'], dtype='object')"
      ]
     },
     "execution_count": 33,
     "metadata": {},
     "output_type": "execute_result"
    }
   ],
   "source": [
    "scores.columns"
   ]
  },
  {
   "cell_type": "code",
   "execution_count": 34,
   "metadata": {
    "collapsed": true
   },
   "outputs": [],
   "source": [
    "# append scores to users:\n",
    "gen = users.iterrows()\n",
    "Info = []\n",
    "Energy = []\n",
    "Access = []\n",
    "for index,row in gen:\n",
    "    try:\n",
    "        Info.append(scores.loc[(scores.Email == row['emailLower']),'Info'].item())\n",
    "    except:\n",
    "        Info.append(np.nan)\n",
    "    try:\n",
    "        Energy.append(scores.loc[(scores.Email == row['emailLower']),'Energy'].item())\n",
    "    except:\n",
    "        Energy.append(np.nan)\n",
    "    try:\n",
    "        Access.append(scores.loc[(scores.Email == row['emailLower']),'Access'].item())\n",
    "    except:\n",
    "        Access.append(np.nan)"
   ]
  },
  {
   "cell_type": "code",
   "execution_count": 35,
   "metadata": {
    "collapsed": false
   },
   "outputs": [
    {
     "name": "stderr",
     "output_type": "stream",
     "text": [
      "/Users/marleneguraieb/anaconda2/envs/python3_env/lib/python3.5/site-packages/pandas/core/indexing.py:296: SettingWithCopyWarning: \n",
      "A value is trying to be set on a copy of a slice from a DataFrame.\n",
      "Try using .loc[row_indexer,col_indexer] = value instead\n",
      "\n",
      "See the caveats in the documentation: http://pandas.pydata.org/pandas-docs/stable/indexing.html#indexing-view-versus-copy\n",
      "  self.obj[key] = _infer_fill_value(value)\n",
      "/Users/marleneguraieb/anaconda2/envs/python3_env/lib/python3.5/site-packages/pandas/core/indexing.py:476: SettingWithCopyWarning: \n",
      "A value is trying to be set on a copy of a slice from a DataFrame.\n",
      "Try using .loc[row_indexer,col_indexer] = value instead\n",
      "\n",
      "See the caveats in the documentation: http://pandas.pydata.org/pandas-docs/stable/indexing.html#indexing-view-versus-copy\n",
      "  self.obj[item] = s\n"
     ]
    }
   ],
   "source": [
    "users.loc[:,'Info'] = Info\n",
    "users.loc[:,'Energy'] = Energy\n",
    "users.loc[:,'Access'] = Access"
   ]
  },
  {
   "cell_type": "code",
   "execution_count": 36,
   "metadata": {
    "collapsed": true
   },
   "outputs": [],
   "source": [
    "# Now append user data to my data:\n",
    "gen = data.iterrows()\n",
    "Info = []\n",
    "Energy = []\n",
    "Access = []\n",
    "for index,row in gen:\n",
    "    try:\n",
    "        Info.append(users.loc[(users._id == row['userId']),'Info'].item())\n",
    "    except:\n",
    "        Info.append(np.nan)\n",
    "    try:\n",
    "        Energy.append(users.loc[(users._id == row['userId']),'Energy'].item())\n",
    "    except:\n",
    "        Energy.append(np.nan)\n",
    "    try:\n",
    "        Access.append(users.loc[(users._id == row['userId']),'Access'].item())\n",
    "    except:\n",
    "        Access.append(np.nan)"
   ]
  },
  {
   "cell_type": "code",
   "execution_count": 37,
   "metadata": {
    "collapsed": true
   },
   "outputs": [],
   "source": [
    "data['Info'] = Info\n",
    "data['Energy'] = Energy\n",
    "data['Access'] = Access"
   ]
  },
  {
   "cell_type": "code",
   "execution_count": 38,
   "metadata": {
    "collapsed": true
   },
   "outputs": [],
   "source": [
    "data = data[['watchers','dependenciesN'] + \n",
    "            list(label_ranks.columns[1:].values) + \n",
    "            ['order','Info','Energy','Access','item_name','completed']]"
   ]
  },
  {
   "cell_type": "markdown",
   "metadata": {},
   "source": [
    "## Missing values"
   ]
  },
  {
   "cell_type": "markdown",
   "metadata": {},
   "source": [
    "If the text (description of objectives, ```item_name```) is missing, then none of the text models will run and the stack will have different sizes, so first I get rid of the columns which have missing item names:"
   ]
  },
  {
   "cell_type": "code",
   "execution_count": 39,
   "metadata": {
    "collapsed": false
   },
   "outputs": [],
   "source": [
    "data = data.dropna(subset=['item_name'], how='all')"
   ]
  },
  {
   "cell_type": "markdown",
   "metadata": {},
   "source": [
    "The rest of the numeric features I will replace with the mean, to not loose more observations:"
   ]
  },
  {
   "cell_type": "code",
   "execution_count": 40,
   "metadata": {
    "collapsed": false
   },
   "outputs": [],
   "source": [
    "data = data.fillna(data.mean())"
   ]
  },
  {
   "cell_type": "code",
   "execution_count": 41,
   "metadata": {
    "collapsed": false
   },
   "outputs": [
    {
     "data": {
      "text/html": [
       "<div>\n",
       "<table border=\"1\" class=\"dataframe\">\n",
       "  <thead>\n",
       "    <tr style=\"text-align: right;\">\n",
       "      <th></th>\n",
       "      <th>watchers</th>\n",
       "      <th>dependenciesN</th>\n",
       "      <th>label_initiative</th>\n",
       "      <th>label_metric</th>\n",
       "      <th>label_objective</th>\n",
       "      <th>label_other</th>\n",
       "      <th>label_pvvm</th>\n",
       "      <th>label_strategy</th>\n",
       "      <th>order</th>\n",
       "      <th>Info</th>\n",
       "      <th>Energy</th>\n",
       "      <th>Access</th>\n",
       "      <th>completed</th>\n",
       "    </tr>\n",
       "  </thead>\n",
       "  <tbody>\n",
       "    <tr>\n",
       "      <th>count</th>\n",
       "      <td>7182.000000</td>\n",
       "      <td>7182.000000</td>\n",
       "      <td>7182.000000</td>\n",
       "      <td>7182.000000</td>\n",
       "      <td>7182.000000</td>\n",
       "      <td>7182.000000</td>\n",
       "      <td>7182.000000</td>\n",
       "      <td>7182.000000</td>\n",
       "      <td>7182.000000</td>\n",
       "      <td>7182.000000</td>\n",
       "      <td>7182.000000</td>\n",
       "      <td>7182.000000</td>\n",
       "      <td>7182.000000</td>\n",
       "    </tr>\n",
       "    <tr>\n",
       "      <th>mean</th>\n",
       "      <td>0.984823</td>\n",
       "      <td>0.691172</td>\n",
       "      <td>0.316486</td>\n",
       "      <td>0.155110</td>\n",
       "      <td>0.073099</td>\n",
       "      <td>0.072542</td>\n",
       "      <td>0.028265</td>\n",
       "      <td>0.118212</td>\n",
       "      <td>3.859617</td>\n",
       "      <td>9.489762</td>\n",
       "      <td>6.107059</td>\n",
       "      <td>5.059783</td>\n",
       "      <td>1.994152</td>\n",
       "    </tr>\n",
       "    <tr>\n",
       "      <th>std</th>\n",
       "      <td>0.838875</td>\n",
       "      <td>2.344719</td>\n",
       "      <td>0.465137</td>\n",
       "      <td>0.362035</td>\n",
       "      <td>0.260318</td>\n",
       "      <td>0.259402</td>\n",
       "      <td>0.165741</td>\n",
       "      <td>0.322882</td>\n",
       "      <td>0.994618</td>\n",
       "      <td>2.991170</td>\n",
       "      <td>0.181900</td>\n",
       "      <td>1.781464</td>\n",
       "      <td>1.000470</td>\n",
       "    </tr>\n",
       "    <tr>\n",
       "      <th>min</th>\n",
       "      <td>0.000000</td>\n",
       "      <td>0.000000</td>\n",
       "      <td>0.000000</td>\n",
       "      <td>0.000000</td>\n",
       "      <td>0.000000</td>\n",
       "      <td>0.000000</td>\n",
       "      <td>0.000000</td>\n",
       "      <td>0.000000</td>\n",
       "      <td>0.000000</td>\n",
       "      <td>1.000000</td>\n",
       "      <td>1.000000</td>\n",
       "      <td>1.000000</td>\n",
       "      <td>1.000000</td>\n",
       "    </tr>\n",
       "    <tr>\n",
       "      <th>25%</th>\n",
       "      <td>0.000000</td>\n",
       "      <td>0.000000</td>\n",
       "      <td>0.000000</td>\n",
       "      <td>0.000000</td>\n",
       "      <td>0.000000</td>\n",
       "      <td>0.000000</td>\n",
       "      <td>0.000000</td>\n",
       "      <td>0.000000</td>\n",
       "      <td>3.859617</td>\n",
       "      <td>9.489762</td>\n",
       "      <td>6.107059</td>\n",
       "      <td>5.059783</td>\n",
       "      <td>1.000000</td>\n",
       "    </tr>\n",
       "    <tr>\n",
       "      <th>50%</th>\n",
       "      <td>1.000000</td>\n",
       "      <td>0.000000</td>\n",
       "      <td>0.000000</td>\n",
       "      <td>0.000000</td>\n",
       "      <td>0.000000</td>\n",
       "      <td>0.000000</td>\n",
       "      <td>0.000000</td>\n",
       "      <td>0.000000</td>\n",
       "      <td>4.000000</td>\n",
       "      <td>9.489762</td>\n",
       "      <td>6.107059</td>\n",
       "      <td>5.059783</td>\n",
       "      <td>2.000000</td>\n",
       "    </tr>\n",
       "    <tr>\n",
       "      <th>75%</th>\n",
       "      <td>1.000000</td>\n",
       "      <td>0.000000</td>\n",
       "      <td>1.000000</td>\n",
       "      <td>0.000000</td>\n",
       "      <td>0.000000</td>\n",
       "      <td>0.000000</td>\n",
       "      <td>0.000000</td>\n",
       "      <td>0.000000</td>\n",
       "      <td>4.000000</td>\n",
       "      <td>9.489762</td>\n",
       "      <td>6.107059</td>\n",
       "      <td>5.059783</td>\n",
       "      <td>3.000000</td>\n",
       "    </tr>\n",
       "    <tr>\n",
       "      <th>max</th>\n",
       "      <td>7.000000</td>\n",
       "      <td>51.000000</td>\n",
       "      <td>1.000000</td>\n",
       "      <td>1.000000</td>\n",
       "      <td>1.000000</td>\n",
       "      <td>1.000000</td>\n",
       "      <td>1.000000</td>\n",
       "      <td>1.000000</td>\n",
       "      <td>6.000000</td>\n",
       "      <td>32.000000</td>\n",
       "      <td>7.000000</td>\n",
       "      <td>28.000000</td>\n",
       "      <td>4.000000</td>\n",
       "    </tr>\n",
       "  </tbody>\n",
       "</table>\n",
       "</div>"
      ],
      "text/plain": [
       "          watchers  dependenciesN  label_initiative  label_metric  \\\n",
       "count  7182.000000  7182.000000    7182.000000       7182.000000    \n",
       "mean   0.984823     0.691172       0.316486          0.155110       \n",
       "std    0.838875     2.344719       0.465137          0.362035       \n",
       "min    0.000000     0.000000       0.000000          0.000000       \n",
       "25%    0.000000     0.000000       0.000000          0.000000       \n",
       "50%    1.000000     0.000000       0.000000          0.000000       \n",
       "75%    1.000000     0.000000       1.000000          0.000000       \n",
       "max    7.000000     51.000000      1.000000          1.000000       \n",
       "\n",
       "       label_objective  label_other   label_pvvm  label_strategy        order  \\\n",
       "count  7182.000000      7182.000000  7182.000000  7182.000000     7182.000000   \n",
       "mean   0.073099         0.072542     0.028265     0.118212        3.859617      \n",
       "std    0.260318         0.259402     0.165741     0.322882        0.994618      \n",
       "min    0.000000         0.000000     0.000000     0.000000        0.000000      \n",
       "25%    0.000000         0.000000     0.000000     0.000000        3.859617      \n",
       "50%    0.000000         0.000000     0.000000     0.000000        4.000000      \n",
       "75%    0.000000         0.000000     0.000000     0.000000        4.000000      \n",
       "max    1.000000         1.000000     1.000000     1.000000        6.000000      \n",
       "\n",
       "              Info       Energy       Access    completed  \n",
       "count  7182.000000  7182.000000  7182.000000  7182.000000  \n",
       "mean   9.489762     6.107059     5.059783     1.994152     \n",
       "std    2.991170     0.181900     1.781464     1.000470     \n",
       "min    1.000000     1.000000     1.000000     1.000000     \n",
       "25%    9.489762     6.107059     5.059783     1.000000     \n",
       "50%    9.489762     6.107059     5.059783     2.000000     \n",
       "75%    9.489762     6.107059     5.059783     3.000000     \n",
       "max    32.000000    7.000000     28.000000    4.000000     "
      ]
     },
     "execution_count": 41,
     "metadata": {},
     "output_type": "execute_result"
    }
   ],
   "source": [
    "data.describe()"
   ]
  },
  {
   "cell_type": "code",
   "execution_count": 42,
   "metadata": {
    "collapsed": true
   },
   "outputs": [],
   "source": [
    "data_text = data[['item_name','completed']]\n",
    "data_text.columns = ['X','Y']"
   ]
  },
  {
   "cell_type": "code",
   "execution_count": 43,
   "metadata": {
    "collapsed": false
   },
   "outputs": [],
   "source": [
    "data_feat = data.drop('item_name',axis=1)\n",
    "data_feat.rename(columns={'completed':'Y'}, inplace=True)"
   ]
  },
  {
   "cell_type": "markdown",
   "metadata": {},
   "source": [
    "# Model 1: Tf-Idf + LinearSVC"
   ]
  },
  {
   "cell_type": "markdown",
   "metadata": {},
   "source": [
    "## Functions, classes definitions:"
   ]
  },
  {
   "cell_type": "code",
   "execution_count": 44,
   "metadata": {
    "collapsed": true
   },
   "outputs": [],
   "source": [
    "# Build a list of stopwords, remove 'the', because I'm interested in specificity. \n",
    "\n",
    "STOPLIST = set(stopwords.words('english') + [\"n't\", \"'s\", \"'m\", \"ca\"] + list(ENGLISH_STOP_WORDS))\n",
    "#STOPLIST.remove('the')\n",
    "# Remove symbols that are not alpha-numeric, replace them with a space\n",
    "SYMBOLS = \" \".join(string.punctuation).split(\" \") + [\"-----\", \"---\", \"...\", \"“\", \"”\", \"'ve\"]"
   ]
  },
  {
   "cell_type": "code",
   "execution_count": 45,
   "metadata": {
    "collapsed": true
   },
   "outputs": [],
   "source": [
    "# transformer that cleans text with spaCy\n",
    "class CleanTextTransformer(TransformerMixin):\n",
    "    \"\"\"\n",
    "    Convert text to cleaned text\n",
    "    \"\"\"\n",
    "\n",
    "    def transform(self, X, **transform_params):\n",
    "        return [cleanText(text) for text in X]\n",
    "\n",
    "    def fit(self, X, y=None, **fit_params):\n",
    "        return self\n",
    "\n",
    "    def get_params(self, deep=True):\n",
    "        return {}"
   ]
  },
  {
   "cell_type": "markdown",
   "metadata": {},
   "source": [
    "Write something about why you cleaned text this way:"
   ]
  },
  {
   "cell_type": "code",
   "execution_count": 46,
   "metadata": {
    "collapsed": true
   },
   "outputs": [],
   "source": [
    "# function that cleans text:\n",
    "def cleanText(text):\n",
    "    # get rid of newlines, and non alpha-numeric characters\n",
    "    text = text.strip().replace(\"\\n\", \" \").replace(\"\\r\", \" \")\n",
    "    text = re.sub(r'([^\\s\\w]|_)+', ' ', text)\n",
    "    text = re.sub(' +',' ',text)   \n",
    "\n",
    "\n",
    "\n",
    "    #parse it\n",
    "    parsed_text = nlp(text)\n",
    "\n",
    "    # get rid of proper nouns\n",
    "    proper = []\n",
    "    token_isoov = [token.is_oov for token in parsed_text]\n",
    "    token_text = [token.orth_ for token in parsed_text]\n",
    "    token_pos = [token.pos_ for token in parsed_text]\n",
    "    for pos, word, oov in zip(token_pos,token_text,token_isoov):\n",
    "        if pos == 'PROPN' and oov==True:\n",
    "            proper.append(str(word))\n",
    "    for pro in proper:\n",
    "        text = text.replace(pro,' PROPN ')\n",
    "\n",
    "\n",
    "    #recode entities\n",
    "    ents = {}\n",
    "    for num,entity in enumerate(parsed_text.ents):\n",
    "        ents[entity.label_] = entity.orth_\n",
    "    for code, entity in ents.items():\n",
    "        text = text.replace(entity,str(' '+code+' '))\n",
    "        \n",
    "    \n",
    "    # lowercase\n",
    "    text = text.lower()\n",
    "    text = re.sub(' +',' ',text)  \n",
    "    \n",
    "    return text"
   ]
  },
  {
   "cell_type": "code",
   "execution_count": 108,
   "metadata": {
    "collapsed": true
   },
   "outputs": [],
   "source": [
    "# A custom function to tokenize the text using spaCy\n",
    "# and convert to lemmas\n",
    "def tokenizeText(sample):\n",
    "\n",
    "    # get the tokens using spaCy\n",
    "    tokens = parser(sample)\n",
    "\n",
    "    # lemmatize\n",
    "    lemmas = []\n",
    "    for tok in tokens:\n",
    "        lemmas.append(tok.lemma_.lower().strip() if tok.lemma_ != \"-PRON-\" else tok.lower_)\n",
    "    tokens = lemmas\n",
    "\n",
    "    # stoplist the tokens\n",
    "    tokens = [tok for tok in tokens if tok not in STOPLIST]\n",
    "\n",
    "    # stoplist symbols\n",
    "    tokens = [tok for tok in tokens if tok not in SYMBOLS]\n",
    "\n",
    "    # remove large strings of whitespace\n",
    "    while \"\" in tokens:\n",
    "        tokens.remove(\"\")\n",
    "    while \" \" in tokens:\n",
    "        tokens.remove(\" \")\n",
    "    while \"\\n\" in tokens:\n",
    "        tokens.remove(\"\\n\")\n",
    "    while \"\\n\\n\" in tokens:\n",
    "        tokens.remove(\"\\n\\n\")\n",
    "\n",
    "    return tokens"
   ]
  },
  {
   "cell_type": "markdown",
   "metadata": {},
   "source": [
    "## Fitting and pipeline"
   ]
  },
  {
   "cell_type": "code",
   "execution_count": 111,
   "metadata": {
    "collapsed": true
   },
   "outputs": [],
   "source": [
    "vectorizer = TfidfVectorizer(tokenizer=tokenizeText, ngram_range=(1,2))"
   ]
  },
  {
   "cell_type": "code",
   "execution_count": 112,
   "metadata": {
    "collapsed": true
   },
   "outputs": [],
   "source": [
    "clf_bow = LinearSVC()"
   ]
  },
  {
   "cell_type": "code",
   "execution_count": 113,
   "metadata": {
    "collapsed": true
   },
   "outputs": [],
   "source": [
    "# the pipeline to clean, tokenize, vectorize, and classify\n",
    "pipe = Pipeline([('cleanText', CleanTextTransformer()), ('vectorizer', vectorizer), ('clf', clf_bow)])"
   ]
  },
  {
   "cell_type": "code",
   "execution_count": 114,
   "metadata": {
    "collapsed": false
   },
   "outputs": [],
   "source": [
    "train, test, labels_train, labels_test = train_test_split(data_text.X,data_text.Y, test_size=0.20, random_state=42)"
   ]
  },
  {
   "cell_type": "code",
   "execution_count": 115,
   "metadata": {
    "collapsed": false
   },
   "outputs": [
    {
     "data": {
      "text/plain": [
       "Pipeline(steps=[('cleanText', <__main__.CleanTextTransformer object at 0x1c27b7390>), ('vectorizer', TfidfVectorizer(analyzer='word', binary=False, decode_error='strict',\n",
       "        dtype=<class 'numpy.int64'>, encoding='utf-8', input='content',\n",
       "        lowercase=True, max_df=1.0, max_features=None, min_df=1,\n",
       " ...ax_iter=1000,\n",
       "     multi_class='ovr', penalty='l2', random_state=None, tol=0.0001,\n",
       "     verbose=0))])"
      ]
     },
     "execution_count": 115,
     "metadata": {},
     "output_type": "execute_result"
    }
   ],
   "source": [
    "pipe.fit(train, labels_train)"
   ]
  },
  {
   "cell_type": "code",
   "execution_count": 53,
   "metadata": {
    "collapsed": true
   },
   "outputs": [],
   "source": [
    "preds_bow = pipe.predict(test)"
   ]
  },
  {
   "cell_type": "markdown",
   "metadata": {},
   "source": [
    "## Visualization"
   ]
  },
  {
   "cell_type": "code",
   "execution_count": 54,
   "metadata": {
    "collapsed": true
   },
   "outputs": [],
   "source": [
    "## Print the top features for each class:\n",
    "def print_top10(vectorizer, clf,N):\n",
    "    \"\"\"Prints features with the highest coefficient values, per class\"\"\"\n",
    "    feature_names = vectorizer.get_feature_names()\n",
    "    for i, class_label in enumerate(clf.classes_):\n",
    "        top = np.argsort(clf.coef_[i])[-N:]\n",
    "        print(\"%s: %s\" % (class_label,\n",
    "              \"-\".join(feature_names[j] for j in top)))"
   ]
  },
  {
   "cell_type": "code",
   "execution_count": 55,
   "metadata": {
    "collapsed": false
   },
   "outputs": [],
   "source": [
    "## Create a dictionary with all the top features in the classes:\n",
    "def top_feat_dict(vectorizer, clf,N):\n",
    "    \"\"\"Prints features with the highest coefficient values, per class\"\"\"\n",
    "    top_feats = {}\n",
    "    feature_names = vectorizer.get_feature_names()\n",
    "    for i, class_label in enumerate(clf.classes_):\n",
    "        top = np.argsort(clf.coef_[i])[-N:]\n",
    "        top_feats['Class_' + str(class_label)] = pd.DataFrame({'Feature': [feature_names[j] for j in top],\n",
    "              'Coefficient': [clf.coef_[2][j] for j in top]})\n",
    "    return top_feats"
   ]
  },
  {
   "cell_type": "code",
   "execution_count": 56,
   "metadata": {
    "collapsed": false
   },
   "outputs": [],
   "source": [
    "def top_verb_dict(vectorizer, clf,N):\n",
    "    \"\"\"Creates a dictionary with all the top verbs in the classes\"\"\"\n",
    "    top_feats = {}\n",
    "    feature_names = vectorizer.get_feature_names()\n",
    "    verbs = [len([1 for token in nlp(feature) if token.pos_ == 'VERB']) for feature in feature_names] \n",
    "    verbs = [np.nan if x == 0 else 1 for x in verbs]\n",
    "    for i, class_label in enumerate(clf.classes_):\n",
    "        top = np.argsort([-a*b for a,b in zip(clf_bow.coef_[i],verbs)])[::-1][-N:]\n",
    "        top_feats['Class_' + str(class_label)] = pd.DataFrame({'Verb': [feature_names[j] for j in top],\n",
    "              'Coefficient': [clf.coef_[i][j] for j in top]})\n",
    "    return top_feats"
   ]
  },
  {
   "cell_type": "markdown",
   "metadata": {},
   "source": [
    "## Results"
   ]
  },
  {
   "cell_type": "code",
   "execution_count": 57,
   "metadata": {
    "collapsed": false
   },
   "outputs": [
    {
     "name": "stdout",
     "output_type": "stream",
     "text": [
      "----------------------------------------------------------------------------------------------\n",
      "Top N features in each class: \n",
      "1: brand card-meeting-card-security master-onsite-initiative cardinal-w-org flight-ipr-create date-lunch-alpha-military-esm-fw-demo-trade-cancel-discussion-sync\n",
      "2: develop date-month-culture-high-team strategy-portal-reliability-customer-invest-program-offer-successful propn-nnb-schedule-tool-aircraft-role-increase-meet org-win contract\n",
      "3: equity project-tech operation-convert-new bpm-money-conduct alignment-auditing-penfed-p90-attract consumer-team create-public cloud-coco-message-service discovery-generate-bold-17-refine-partnership org\n",
      "4: class org-chrome-speedtest-digital repair-contribution-upgrade office-awesome-deliver awesome-propn experience-hire talent-diagnostic-employee satisfaction-org test-testing strategy-win-legal-passionate-cardinal org-org dashboard-reassign\n",
      "None\n"
     ]
    }
   ],
   "source": [
    "print(\"----------------------------------------------------------------------------------------------\")\n",
    "print(\"Top N features in each class: \")\n",
    "print(print_top10(vectorizer,clf_bow,20))"
   ]
  },
  {
   "cell_type": "code",
   "execution_count": 58,
   "metadata": {
    "collapsed": true
   },
   "outputs": [],
   "source": [
    "top_feat = top_feat_dict(vectorizer,clf_bow,100)"
   ]
  },
  {
   "cell_type": "code",
   "execution_count": 59,
   "metadata": {
    "collapsed": false
   },
   "outputs": [
    {
     "data": {
      "text/html": [
       "<div>\n",
       "<table border=\"1\" class=\"dataframe\">\n",
       "  <thead>\n",
       "    <tr style=\"text-align: right;\">\n",
       "      <th></th>\n",
       "      <th>Coefficient</th>\n",
       "      <th>Feature</th>\n",
       "    </tr>\n",
       "  </thead>\n",
       "  <tbody>\n",
       "    <tr>\n",
       "      <th>0</th>\n",
       "      <td>0.895978</td>\n",
       "      <td>value propn</td>\n",
       "    </tr>\n",
       "    <tr>\n",
       "      <th>1</th>\n",
       "      <td>0.897811</td>\n",
       "      <td>test case</td>\n",
       "    </tr>\n",
       "    <tr>\n",
       "      <th>2</th>\n",
       "      <td>0.900802</td>\n",
       "      <td>improvement app</td>\n",
       "    </tr>\n",
       "    <tr>\n",
       "      <th>3</th>\n",
       "      <td>0.904268</td>\n",
       "      <td>doctrine</td>\n",
       "    </tr>\n",
       "    <tr>\n",
       "      <th>4</th>\n",
       "      <td>0.913105</td>\n",
       "      <td>execute requirement</td>\n",
       "    </tr>\n",
       "    <tr>\n",
       "      <th>5</th>\n",
       "      <td>0.913852</td>\n",
       "      <td>seamlessly</td>\n",
       "    </tr>\n",
       "    <tr>\n",
       "      <th>6</th>\n",
       "      <td>0.913940</td>\n",
       "      <td>present</td>\n",
       "    </tr>\n",
       "    <tr>\n",
       "      <th>7</th>\n",
       "      <td>0.913948</td>\n",
       "      <td>security</td>\n",
       "    </tr>\n",
       "    <tr>\n",
       "      <th>8</th>\n",
       "      <td>0.917161</td>\n",
       "      <td>county</td>\n",
       "    </tr>\n",
       "    <tr>\n",
       "      <th>9</th>\n",
       "      <td>0.918021</td>\n",
       "      <td>singular team</td>\n",
       "    </tr>\n",
       "    <tr>\n",
       "      <th>10</th>\n",
       "      <td>0.921867</td>\n",
       "      <td>create</td>\n",
       "    </tr>\n",
       "    <tr>\n",
       "      <th>11</th>\n",
       "      <td>0.923238</td>\n",
       "      <td>propn book</td>\n",
       "    </tr>\n",
       "    <tr>\n",
       "      <th>12</th>\n",
       "      <td>0.925586</td>\n",
       "      <td>map v4</td>\n",
       "    </tr>\n",
       "    <tr>\n",
       "      <th>13</th>\n",
       "      <td>0.927717</td>\n",
       "      <td>cx training</td>\n",
       "    </tr>\n",
       "    <tr>\n",
       "      <th>14</th>\n",
       "      <td>0.929735</td>\n",
       "      <td>lead rapid</td>\n",
       "    </tr>\n",
       "    <tr>\n",
       "      <th>15</th>\n",
       "      <td>0.932895</td>\n",
       "      <td>chronic dashboard</td>\n",
       "    </tr>\n",
       "    <tr>\n",
       "      <th>16</th>\n",
       "      <td>0.945924</td>\n",
       "      <td>cardinal date</td>\n",
       "    </tr>\n",
       "    <tr>\n",
       "      <th>17</th>\n",
       "      <td>0.946039</td>\n",
       "      <td>customer callback</td>\n",
       "    </tr>\n",
       "    <tr>\n",
       "      <th>18</th>\n",
       "      <td>0.948558</td>\n",
       "      <td>notification</td>\n",
       "    </tr>\n",
       "    <tr>\n",
       "      <th>19</th>\n",
       "      <td>0.950225</td>\n",
       "      <td>define propn</td>\n",
       "    </tr>\n",
       "    <tr>\n",
       "      <th>20</th>\n",
       "      <td>0.951780</td>\n",
       "      <td>perform org</td>\n",
       "    </tr>\n",
       "    <tr>\n",
       "      <th>21</th>\n",
       "      <td>0.953602</td>\n",
       "      <td>expand free</td>\n",
       "    </tr>\n",
       "    <tr>\n",
       "      <th>22</th>\n",
       "      <td>0.953602</td>\n",
       "      <td>rapidly expand</td>\n",
       "    </tr>\n",
       "    <tr>\n",
       "      <th>23</th>\n",
       "      <td>0.956472</td>\n",
       "      <td>africom</td>\n",
       "    </tr>\n",
       "    <tr>\n",
       "      <th>24</th>\n",
       "      <td>0.956769</td>\n",
       "      <td>test initiative</td>\n",
       "    </tr>\n",
       "    <tr>\n",
       "      <th>25</th>\n",
       "      <td>0.960578</td>\n",
       "      <td>propn cross</td>\n",
       "    </tr>\n",
       "    <tr>\n",
       "      <th>26</th>\n",
       "      <td>0.963268</td>\n",
       "      <td>org reconciliation</td>\n",
       "    </tr>\n",
       "    <tr>\n",
       "      <th>27</th>\n",
       "      <td>0.965970</td>\n",
       "      <td>enterprise wide</td>\n",
       "    </tr>\n",
       "    <tr>\n",
       "      <th>28</th>\n",
       "      <td>0.966950</td>\n",
       "      <td>engineer</td>\n",
       "    </tr>\n",
       "    <tr>\n",
       "      <th>29</th>\n",
       "      <td>0.969747</td>\n",
       "      <td>grow exist</td>\n",
       "    </tr>\n",
       "    <tr>\n",
       "      <th>...</th>\n",
       "      <td>...</td>\n",
       "      <td>...</td>\n",
       "    </tr>\n",
       "    <tr>\n",
       "      <th>70</th>\n",
       "      <td>1.091189</td>\n",
       "      <td>org expansion</td>\n",
       "    </tr>\n",
       "    <tr>\n",
       "      <th>71</th>\n",
       "      <td>1.092825</td>\n",
       "      <td>client</td>\n",
       "    </tr>\n",
       "    <tr>\n",
       "      <th>72</th>\n",
       "      <td>1.095748</td>\n",
       "      <td>saas</td>\n",
       "    </tr>\n",
       "    <tr>\n",
       "      <th>73</th>\n",
       "      <td>1.097921</td>\n",
       "      <td>dispute tool</td>\n",
       "    </tr>\n",
       "    <tr>\n",
       "      <th>74</th>\n",
       "      <td>1.101033</td>\n",
       "      <td>contract support</td>\n",
       "    </tr>\n",
       "    <tr>\n",
       "      <th>75</th>\n",
       "      <td>1.108353</td>\n",
       "      <td>date review</td>\n",
       "    </tr>\n",
       "    <tr>\n",
       "      <th>76</th>\n",
       "      <td>1.111229</td>\n",
       "      <td>propn client</td>\n",
       "    </tr>\n",
       "    <tr>\n",
       "      <th>77</th>\n",
       "      <td>1.111641</td>\n",
       "      <td>rollout</td>\n",
       "    </tr>\n",
       "    <tr>\n",
       "      <th>78</th>\n",
       "      <td>1.117539</td>\n",
       "      <td>decisive</td>\n",
       "    </tr>\n",
       "    <tr>\n",
       "      <th>79</th>\n",
       "      <td>1.123046</td>\n",
       "      <td>employee survey</td>\n",
       "    </tr>\n",
       "    <tr>\n",
       "      <th>80</th>\n",
       "      <td>1.130669</td>\n",
       "      <td>equity project</td>\n",
       "    </tr>\n",
       "    <tr>\n",
       "      <th>81</th>\n",
       "      <td>1.132147</td>\n",
       "      <td>tech operation</td>\n",
       "    </tr>\n",
       "    <tr>\n",
       "      <th>82</th>\n",
       "      <td>1.143361</td>\n",
       "      <td>convert</td>\n",
       "    </tr>\n",
       "    <tr>\n",
       "      <th>83</th>\n",
       "      <td>1.150145</td>\n",
       "      <td>new bpm</td>\n",
       "    </tr>\n",
       "    <tr>\n",
       "      <th>84</th>\n",
       "      <td>1.171026</td>\n",
       "      <td>money</td>\n",
       "    </tr>\n",
       "    <tr>\n",
       "      <th>85</th>\n",
       "      <td>1.185018</td>\n",
       "      <td>conduct alignment</td>\n",
       "    </tr>\n",
       "    <tr>\n",
       "      <th>86</th>\n",
       "      <td>1.188367</td>\n",
       "      <td>auditing</td>\n",
       "    </tr>\n",
       "    <tr>\n",
       "      <th>87</th>\n",
       "      <td>1.188368</td>\n",
       "      <td>penfed</td>\n",
       "    </tr>\n",
       "    <tr>\n",
       "      <th>88</th>\n",
       "      <td>1.191763</td>\n",
       "      <td>p90</td>\n",
       "    </tr>\n",
       "    <tr>\n",
       "      <th>89</th>\n",
       "      <td>1.221275</td>\n",
       "      <td>attract consumer</td>\n",
       "    </tr>\n",
       "    <tr>\n",
       "      <th>90</th>\n",
       "      <td>1.222765</td>\n",
       "      <td>team create</td>\n",
       "    </tr>\n",
       "    <tr>\n",
       "      <th>91</th>\n",
       "      <td>1.237765</td>\n",
       "      <td>public cloud</td>\n",
       "    </tr>\n",
       "    <tr>\n",
       "      <th>92</th>\n",
       "      <td>1.263838</td>\n",
       "      <td>coco</td>\n",
       "    </tr>\n",
       "    <tr>\n",
       "      <th>93</th>\n",
       "      <td>1.291865</td>\n",
       "      <td>message</td>\n",
       "    </tr>\n",
       "    <tr>\n",
       "      <th>94</th>\n",
       "      <td>1.307921</td>\n",
       "      <td>service discovery</td>\n",
       "    </tr>\n",
       "    <tr>\n",
       "      <th>95</th>\n",
       "      <td>1.316712</td>\n",
       "      <td>generate</td>\n",
       "    </tr>\n",
       "    <tr>\n",
       "      <th>96</th>\n",
       "      <td>1.337323</td>\n",
       "      <td>bold</td>\n",
       "    </tr>\n",
       "    <tr>\n",
       "      <th>97</th>\n",
       "      <td>1.397402</td>\n",
       "      <td>17</td>\n",
       "    </tr>\n",
       "    <tr>\n",
       "      <th>98</th>\n",
       "      <td>1.411096</td>\n",
       "      <td>refine</td>\n",
       "    </tr>\n",
       "    <tr>\n",
       "      <th>99</th>\n",
       "      <td>1.462658</td>\n",
       "      <td>partnership org</td>\n",
       "    </tr>\n",
       "  </tbody>\n",
       "</table>\n",
       "<p>100 rows × 2 columns</p>\n",
       "</div>"
      ],
      "text/plain": [
       "    Coefficient              Feature\n",
       "0   0.895978     value propn        \n",
       "1   0.897811     test case          \n",
       "2   0.900802     improvement app    \n",
       "3   0.904268     doctrine           \n",
       "4   0.913105     execute requirement\n",
       "5   0.913852     seamlessly         \n",
       "6   0.913940     present            \n",
       "7   0.913948     security           \n",
       "8   0.917161     county             \n",
       "9   0.918021     singular team      \n",
       "10  0.921867     create             \n",
       "11  0.923238     propn book         \n",
       "12  0.925586     map v4             \n",
       "13  0.927717     cx training        \n",
       "14  0.929735     lead rapid         \n",
       "15  0.932895     chronic dashboard  \n",
       "16  0.945924     cardinal date      \n",
       "17  0.946039     customer callback  \n",
       "18  0.948558     notification       \n",
       "19  0.950225     define propn       \n",
       "20  0.951780     perform org        \n",
       "21  0.953602     expand free        \n",
       "22  0.953602     rapidly expand     \n",
       "23  0.956472     africom            \n",
       "24  0.956769     test initiative    \n",
       "25  0.960578     propn cross        \n",
       "26  0.963268     org reconciliation \n",
       "27  0.965970     enterprise wide    \n",
       "28  0.966950     engineer           \n",
       "29  0.969747     grow exist         \n",
       "..       ...            ...         \n",
       "70  1.091189     org expansion      \n",
       "71  1.092825     client             \n",
       "72  1.095748     saas               \n",
       "73  1.097921     dispute tool       \n",
       "74  1.101033     contract support   \n",
       "75  1.108353     date review        \n",
       "76  1.111229     propn client       \n",
       "77  1.111641     rollout            \n",
       "78  1.117539     decisive           \n",
       "79  1.123046     employee survey    \n",
       "80  1.130669     equity project     \n",
       "81  1.132147     tech operation     \n",
       "82  1.143361     convert            \n",
       "83  1.150145     new bpm            \n",
       "84  1.171026     money              \n",
       "85  1.185018     conduct alignment  \n",
       "86  1.188367     auditing           \n",
       "87  1.188368     penfed             \n",
       "88  1.191763     p90                \n",
       "89  1.221275     attract consumer   \n",
       "90  1.222765     team create        \n",
       "91  1.237765     public cloud       \n",
       "92  1.263838     coco               \n",
       "93  1.291865     message            \n",
       "94  1.307921     service discovery  \n",
       "95  1.316712     generate           \n",
       "96  1.337323     bold               \n",
       "97  1.397402     17                 \n",
       "98  1.411096     refine             \n",
       "99  1.462658     partnership org    \n",
       "\n",
       "[100 rows x 2 columns]"
      ]
     },
     "execution_count": 59,
     "metadata": {},
     "output_type": "execute_result"
    }
   ],
   "source": [
    "top_feat['Class_3']"
   ]
  },
  {
   "cell_type": "code",
   "execution_count": 60,
   "metadata": {
    "collapsed": false
   },
   "outputs": [],
   "source": [
    "top_verb = top_verb_dict(vectorizer,clf_bow,100)"
   ]
  },
  {
   "cell_type": "code",
   "execution_count": 61,
   "metadata": {
    "collapsed": false
   },
   "outputs": [
    {
     "name": "stdout",
     "output_type": "stream",
     "text": [
      "----------------------------------------------------------------------------------------------\n",
      "Accuracy score:  0.649965205289\n"
     ]
    }
   ],
   "source": [
    "print(\"----------------------------------------------------------------------------------------------\")\n",
    "print(\"Accuracy score: \",accuracy_score(labels_test, preds_bow))"
   ]
  },
  {
   "cell_type": "code",
   "execution_count": 62,
   "metadata": {
    "collapsed": false
   },
   "outputs": [
    {
     "name": "stdout",
     "output_type": "stream",
     "text": [
      "----------------------------------------------------------------------------------------------\n",
      "classification report:               precision    recall  f1-score   support\n",
      "\n",
      "          1       0.74      0.82      0.77       562\n",
      "          2       0.62      0.74      0.67       498\n",
      "          3       0.47      0.28      0.35       204\n",
      "          4       0.51      0.29      0.37       173\n",
      "\n",
      "avg / total       0.63      0.65      0.63      1437\n",
      "\n"
     ]
    }
   ],
   "source": [
    "print(\"----------------------------------------------------------------------------------------------\")\n",
    "print(\"classification report: \",classification_report(labels_test, preds_bow))"
   ]
  },
  {
   "cell_type": "markdown",
   "metadata": {},
   "source": [
    "## Store predictions for entire data as predictions for model 1: "
   ]
  },
  {
   "cell_type": "code",
   "execution_count": 63,
   "metadata": {
    "collapsed": true
   },
   "outputs": [],
   "source": [
    "BoW_predict = pipe.predict(data_text.X)"
   ]
  },
  {
   "cell_type": "code",
   "execution_count": 64,
   "metadata": {
    "collapsed": false
   },
   "outputs": [],
   "source": [
    "#pipe.predict[pd.Series(data_text.X[1:3])]\n",
    "test_string = pd.Series(['Identify key business partners for Team Alpha to propose microblogging deal by end of 2016'])"
   ]
  },
  {
   "cell_type": "code",
   "execution_count": 67,
   "metadata": {
    "collapsed": false
   },
   "outputs": [],
   "source": [
    "test_string = nlp('Identify 8 key business partners for Viacom to propose microblogging deal by 2016')\n",
    "ents = {}\n",
    "for num,entity in enumerate(test_string.ents):\n",
    "    ents[entity.label_] = entity.orth_\n",
    "#for code, entity in ents.items():\n",
    "#    text = text.replace(entity,str(' '+code+' '))"
   ]
  },
  {
   "cell_type": "code",
   "execution_count": 116,
   "metadata": {
    "collapsed": false
   },
   "outputs": [
    {
     "data": {
      "text/plain": [
       "['identify',\n",
       " '8',\n",
       " 'key',\n",
       " 'business',\n",
       " 'partner',\n",
       " 'viacom',\n",
       " 'propose',\n",
       " 'microblogging',\n",
       " 'deal',\n",
       " '2016']"
      ]
     },
     "execution_count": 116,
     "metadata": {},
     "output_type": "execute_result"
    }
   ],
   "source": [
    "tokenizeText('Identify 8 key business partners for Viacom to propose microblogging deal by 2016')"
   ]
  },
  {
   "cell_type": "code",
   "execution_count": 72,
   "metadata": {
    "collapsed": false
   },
   "outputs": [
    {
     "data": {
      "text/plain": [
       "array([2])"
      ]
     },
     "execution_count": 72,
     "metadata": {},
     "output_type": "execute_result"
    }
   ],
   "source": [
    "pipe.predict(pd.Series('Identify 8 key business partners for Viacom to propose microblogging deal by 2016'))"
   ]
  },
  {
   "cell_type": "code",
   "execution_count": null,
   "metadata": {
    "collapsed": false
   },
   "outputs": [],
   "source": [
    "tokenizeText(cleanText('Identify 8 key business partners for TeamAlpha to propose microblogging deal by end of fy2016'))"
   ]
  },
  {
   "cell_type": "markdown",
   "metadata": {},
   "source": [
    "## Finding patterns in original data:"
   ]
  },
  {
   "cell_type": "code",
   "execution_count": 126,
   "metadata": {
    "collapsed": true
   },
   "outputs": [],
   "source": [
    "cleantext = lambda x: cleanText(x)"
   ]
  },
  {
   "cell_type": "code",
   "execution_count": 127,
   "metadata": {
    "collapsed": false
   },
   "outputs": [
    {
     "name": "stderr",
     "output_type": "stream",
     "text": [
      "/Users/marleneguraieb/anaconda2/envs/python3_env/lib/python3.5/site-packages/ipykernel/__main__.py:1: SettingWithCopyWarning: \n",
      "A value is trying to be set on a copy of a slice from a DataFrame.\n",
      "Try using .loc[row_indexer,col_indexer] = value instead\n",
      "\n",
      "See the caveats in the documentation: http://pandas.pydata.org/pandas-docs/stable/indexing.html#indexing-view-versus-copy\n",
      "  if __name__ == '__main__':\n"
     ]
    }
   ],
   "source": [
    "data_text['BoW'] = data_text['X'].apply(cleantext)"
   ]
  },
  {
   "cell_type": "code",
   "execution_count": 184,
   "metadata": {
    "collapsed": false
   },
   "outputs": [
    {
     "data": {
      "text/plain": [
       "(-0.5, 399.5, 199.5, -0.5)"
      ]
     },
     "execution_count": 184,
     "metadata": {},
     "output_type": "execute_result"
    },
    {
     "data": {
      "image/png": "[encoded data removed]",
      "text/plain": [
       "<matplotlib.figure.Figure at 0x1c3d8fcc0>"
      ]
     },
     "metadata": {},
     "output_type": "display_data"
    }
   ],
   "source": [
    "\"\"\"\n",
    "===============\n",
    "Generate word clouds of most common words and verbs per class:\n",
    "\"\"\"\n",
    "#class_1 = []\n",
    "#for feature, coefficient in zip(top_feat['Class_1'].Feature,top_feat['Class_1'].Coefficient):\n",
    "#    lists = [feature.replace(\" \", \"_\")]*(100+int(round(coefficient*100)))\n",
    "#    class_1 = class_1+lists\n",
    "% matplotlib inline\n",
    "\n",
    "class_1 = []\n",
    "for feature, coefficient in zip(top_feat['Class_1'].Feature,top_feat['Class_1'].Coefficient):\n",
    "    lists = [feature.replace(\" \", \"_\")]*(100+int(round(coefficient*100)))\n",
    "    class_1 = class_1+lists\n",
    "\n",
    "\n",
    "    \n",
    "def grey_color_func(word, font_size, position, orientation, random_state=None, **kwargs):\n",
    "    return \"hsl(0, 0%%, %d%%)\" % random.randint(60, 100)\n",
    "\n",
    "text = ' '.join(class_1)\n",
    "\n",
    "# Generate a word cloud image\n",
    "#wordcloud = WordCloud().generate(text)\n",
    "wordcloud = WordCloud(font_path='CaviarDreams.ttf').generate(text)\n",
    "# Display the generated image:\n",
    "# the matplotlib way:\n",
    "import matplotlib.pyplot as plt\n",
    "#plt.imshow(wordcloud)\n",
    "plt.imshow(wordcloud.recolor(color_func=grey_color_func, random_state=3))\n",
    "plt.axis(\"off\")\n",
    "\n",
    "# lower max_font_size\n",
    "#wordcloud = WordCloud(max_font_size=40).generate(text)\n",
    "#plt.figure()\n",
    "#plt.imshow(wordcloud)\n",
    "#plt.axis(\"off\")\n",
    "#plt.show()"
   ]
  },
  {
   "cell_type": "code",
   "execution_count": 132,
   "metadata": {
    "collapsed": false
   },
   "outputs": [
    {
     "data": {
      "text/html": [
       "<div>\n",
       "<table border=\"1\" class=\"dataframe\">\n",
       "  <thead>\n",
       "    <tr style=\"text-align: right;\">\n",
       "      <th></th>\n",
       "      <th>X</th>\n",
       "      <th>Y</th>\n",
       "      <th>BoW</th>\n",
       "    </tr>\n",
       "  </thead>\n",
       "  <tbody>\n",
       "    <tr>\n",
       "      <th>4494</th>\n",
       "      <td>PenFed</td>\n",
       "      <td>3</td>\n",
       "      <td>penfed</td>\n",
       "    </tr>\n",
       "  </tbody>\n",
       "</table>\n",
       "</div>"
      ],
      "text/plain": [
       "           X  Y     BoW\n",
       "4494  PenFed  3  penfed"
      ]
     },
     "execution_count": 132,
     "metadata": {},
     "output_type": "execute_result"
    }
   ],
   "source": [
    "#Feature finder!\n",
    "#data_text.loc[(data_text.loc[:,'BoW'].str.contains(top_feat['Class_4'].loc[10,'Feature'])==True),'X']\n",
    "data_text.loc[(data_text.loc[:,'BoW'].str.contains('penfed')==True),['X','Y','BoW']]"
   ]
  },
  {
   "cell_type": "markdown",
   "metadata": {},
   "source": [
    "# Model 2: syntactic features"
   ]
  },
  {
   "cell_type": "markdown",
   "metadata": {},
   "source": [
    "## Functions and definitions:"
   ]
  },
  {
   "cell_type": "markdown",
   "metadata": {},
   "source": [
    "Talk a lot about why and how you did this!"
   ]
  },
  {
   "cell_type": "code",
   "execution_count": 133,
   "metadata": {
    "collapsed": true
   },
   "outputs": [],
   "source": [
    "# Extract all syntactic components from text and return a dictionary:\n",
    "def syntaxFeat(text):\n",
    "    # get rid of newlines, and non alpha-numeric characters\n",
    "    text = text.strip().replace(\"\\n\", \" \").replace(\"\\r\", \" \")\n",
    "    text = re.sub(r'([^\\s\\w]|_)+', ' ', text)\n",
    "    text = text.replace(' +',' ')\n",
    "\n",
    "\n",
    "    # parse it\n",
    "    parsed_text = nlp(text)\n",
    "    \n",
    "    # get tokens, and length\n",
    "    token_parsed = [token for token in parsed_text]\n",
    "    len_token = len(token_parsed)\n",
    "    \n",
    "    # Walk up the syntactic tree, collecting the arc labels.\n",
    "    len_dep = []\n",
    "    for token in token_parsed:\n",
    "        dep_labels = []\n",
    "        while token.head is not token:\n",
    "            dep_labels.append(token.dep_)\n",
    "            token = token.head\n",
    "        len_dep.append(len(dep_labels))\n",
    "    #this is the longest subtree, one variable you need to return\n",
    "    max_stree = max(len_dep)\n",
    "    \n",
    "    #count entities/length of sentence\n",
    "    perc_ents = len(parsed_text.ents)/len_token\n",
    "    \n",
    "    #count proper nouns\n",
    "    perc_propn = sum([token.pos_=='PROPN' for token in parsed_text])/len_token\n",
    "    \n",
    "    #count noun chunks\n",
    "    perc_nounch = len([token for token in parsed_text.noun_chunks])/len_token\n",
    "    \n",
    "    #count words out of vocabulary\n",
    "    perc_oov = sum([token.is_oov for token in parsed_text])/len_token\n",
    "    \n",
    "    #count numbers\n",
    "    perc_num = sum([token.like_num for token in parsed_text])/len_token\n",
    "    \n",
    "    return {'len_token':len_token,'max_stree':max_stree,'perc_ents':perc_ents,'perc_propn':perc_propn,\n",
    "            'perc_nounch':perc_nounch,'perc_oov':perc_oov,'perc_num':perc_num}"
   ]
  },
  {
   "cell_type": "code",
   "execution_count": 134,
   "metadata": {
    "collapsed": true
   },
   "outputs": [],
   "source": [
    "#Do syntax features for every row and return a dataframe\n",
    "def syntaxFeatures(df):    \n",
    "    syntax = pd.DataFrame()\n",
    "    for i in df.index.values:\n",
    "        temp = syntaxFeat(df.loc[i,'X'])\n",
    "        syntax = syntax.append(temp,ignore_index=True)\n",
    "    return syntax"
   ]
  },
  {
   "cell_type": "markdown",
   "metadata": {},
   "source": [
    "## Fit"
   ]
  },
  {
   "cell_type": "code",
   "execution_count": 135,
   "metadata": {
    "collapsed": true
   },
   "outputs": [],
   "source": [
    "X_syntax = preprocessing.normalize(syntaxFeatures(data_text))"
   ]
  },
  {
   "cell_type": "code",
   "execution_count": 227,
   "metadata": {
    "collapsed": false
   },
   "outputs": [
    {
     "ename": "AttributeError",
     "evalue": "'numpy.ndarray' object has no attribute 'columns'",
     "output_type": "error",
     "traceback": [
      "\u001b[0;31m---------------------------------------------------------------------------\u001b[0m",
      "\u001b[0;31mAttributeError\u001b[0m                            Traceback (most recent call last)",
      "\u001b[0;32m<ipython-input-227-65e708eb60bf>\u001b[0m in \u001b[0;36m<module>\u001b[0;34m()\u001b[0m\n\u001b[0;32m----> 1\u001b[0;31m \u001b[0mX_syntax\u001b[0m\u001b[0;34m.\u001b[0m\u001b[0mcolumns\u001b[0m\u001b[0;34m\u001b[0m\u001b[0m\n\u001b[0m",
      "\u001b[0;31mAttributeError\u001b[0m: 'numpy.ndarray' object has no attribute 'columns'"
     ]
    }
   ],
   "source": []
  },
  {
   "cell_type": "markdown",
   "metadata": {},
   "source": [
    "# Model 3: Psyco-linguistics"
   ]
  },
  {
   "cell_type": "markdown",
   "metadata": {},
   "source": [
    "## Functions"
   ]
  },
  {
   "cell_type": "code",
   "execution_count": 138,
   "metadata": {
    "collapsed": true
   },
   "outputs": [],
   "source": [
    "#Get all the vocabulary in the corpus and its features:\n",
    "def vocab_pl(data):\n",
    "    #get dictionary data\n",
    "    pl_data = pd.read_csv('pl_dict_clean.csv')\n",
    "    pl_data = pl_data[['word','fam','conc','imag','kf_wf']]\n",
    "    pl_data = pl_data.dropna(thresh=2).drop_duplicates()\n",
    "    with warnings.catch_warnings():\n",
    "        warnings.simplefilter(\"ignore\", category=RuntimeWarning)\n",
    "        pl_data = pl_data.groupby('word').agg({'fam': np.nanmean,'conc': np.nanmean,'imag': np.nanmean, \n",
    "                                               'kf_wf':np.nanmean}).reset_index() \n",
    "\n",
    "    vocab = []\n",
    "    for i in data.index.values:\n",
    "        # get rid of newlines, and non alpha-numeric characters\n",
    "        text = data.loc[i,'X']\n",
    "        text = text.strip().replace(\"\\n\", \" \").replace(\"\\r\", \" \")\n",
    "        text = re.sub(r'([^\\s\\w]|_)+', ' ', text)\n",
    "        text = text.replace(' +',' ')\n",
    "        parsed_text = nlp(text)\n",
    "        token_text = [token.orth_ for token in parsed_text]\n",
    "        for token in token_text:\n",
    "            vocab.append(token.upper())\n",
    "    vocab = list(set(vocab))\n",
    "    \n",
    "    vocab_in_pl = [word for word in vocab if word in list(pl_data.word)]\n",
    "    pl_data =  pl_data[pl_data['word'].isin(vocab_in_pl)]\n",
    "    \n",
    "    return pl_data\n"
   ]
  },
  {
   "cell_type": "code",
   "execution_count": 136,
   "metadata": {
    "collapsed": true
   },
   "outputs": [],
   "source": [
    "# Score each sentence\n",
    "def pl_features(text,pl_data):\n",
    "        \n",
    "    # get rid of newlines, and non alpha-numeric characters\n",
    "    text = text.strip().replace(\"\\n\", \" \").replace(\"\\r\", \" \")\n",
    "    text = re.sub(r'([^\\s\\w]|_)+', ' ', text)\n",
    "    text = text.replace(' +',' ')\n",
    "\n",
    "    # parse it\n",
    "    parsed_text = nlp(text)\n",
    "    \n",
    "    # get tokens\n",
    "    token_text = [token.orth_ for token in parsed_text]\n",
    "\n",
    "    kf_scores = []\n",
    "    fam_scores = []\n",
    "    conc_scores = []\n",
    "    imag_scores = []\n",
    "    for token in token_text:\n",
    "        kf_scores.append(pl_data.loc[pl_data['word']==token.upper(),'kf_wf'].max())\n",
    "        fam_scores.append(pl_data.loc[pl_data['word']==token.upper(),'fam'].max())\n",
    "        conc_scores.append(pl_data.loc[pl_data['word']==token.upper(),'conc'].max())\n",
    "        imag_scores.append(pl_data.loc[pl_data['word']==token.upper(),'imag'].max())\n",
    "    with warnings.catch_warnings():\n",
    "        warnings.simplefilter(\"ignore\", category=RuntimeWarning)\n",
    "        kf =   np.nanmean(kf_scores)\n",
    "        fam =  np.nanmean(fam_scores)\n",
    "        conc = np.nanmean(conc_scores)\n",
    "        imag = np.nanmean(imag_scores)\n",
    "        perc_kf = 1-(np.isnan(kf_scores).sum()/len(kf_scores))\n",
    "    \n",
    "    return {'kf_score': kf,'fam_score': fam,'conc_score': conc,'imag_score': imag,'perc_kf': perc_kf}\n"
   ]
  },
  {
   "cell_type": "code",
   "execution_count": 139,
   "metadata": {
    "collapsed": true
   },
   "outputs": [],
   "source": [
    "#Run it for all the dataset:\n",
    "def plFeatures(df,pl_data):\n",
    "    #get dictionary data\n",
    "#    pl_data = vocab_pl(df)\n",
    "\n",
    "    pl = pd.DataFrame()\n",
    "    for i in df.index.values:\n",
    "        temp = pl_features(df.loc[i,'X'],pl_data)\n",
    "        pl = pl.append(temp,ignore_index=True)\n",
    "    return pl\n"
   ]
  },
  {
   "cell_type": "code",
   "execution_count": 140,
   "metadata": {
    "collapsed": false
   },
   "outputs": [],
   "source": [
    "#Get data from psycolinguistic dictionary\n",
    "pl_data = vocab_pl(data_text)"
   ]
  },
  {
   "cell_type": "code",
   "execution_count": 143,
   "metadata": {
    "collapsed": false
   },
   "outputs": [],
   "source": [
    "X_pl = plFeatures(data_text,pl_data)\n",
    "X_pl = preprocessing.normalize(X_pl.fillna(X_pl.mean()))"
   ]
  },
  {
   "cell_type": "markdown",
   "metadata": {},
   "source": [
    "# Final model I:"
   ]
  },
  {
   "cell_type": "code",
   "execution_count": 287,
   "metadata": {
    "collapsed": false
   },
   "outputs": [],
   "source": [
    "X_stacked = pd.concat([pd.DataFrame(BoW_predict,columns=['BoW']),\n",
    "                       pd.DataFrame(X_syntax),\n",
    "#                       pd.DataFrame(X_pl),\n",
    "                       data_feat.drop('Y',axis=1).reset_index()], axis=1, join='inner')"
   ]
  },
  {
   "cell_type": "code",
   "execution_count": 333,
   "metadata": {
    "collapsed": false
   },
   "outputs": [],
   "source": [
    "#train, test, labels_train, labels_test = train_test_split(X_stacked,data_text['Y'], test_size=0.20, random_state=42)\n",
    "train, test, labels_train, labels_test = train_test_split(X_stacked,data_text['Y'], test_size=0.20, random_state=42)"
   ]
  },
  {
   "cell_type": "code",
   "execution_count": 334,
   "metadata": {
    "collapsed": false
   },
   "outputs": [],
   "source": [
    "model_fin = KNeighborsClassifier(3)\n",
    "model_fin = model_fin.fit(train, labels_train)"
   ]
  },
  {
   "cell_type": "code",
   "execution_count": 335,
   "metadata": {
    "collapsed": false
   },
   "outputs": [
    {
     "name": "stdout",
     "output_type": "stream",
     "text": [
      "accuracy: 0.76965901183\n"
     ]
    }
   ],
   "source": [
    "predict = model_fin.predict(test)\n",
    "print(\"accuracy:\", accuracy_score(labels_test, predict))"
   ]
  },
  {
   "cell_type": "code",
   "execution_count": 336,
   "metadata": {
    "collapsed": false
   },
   "outputs": [
    {
     "name": "stdout",
     "output_type": "stream",
     "text": [
      "----------------------------------------------------------------------------------------------\n",
      "classification report:               precision    recall  f1-score   support\n",
      "\n",
      "          1       0.86      0.94      0.90       562\n",
      "          2       0.78      0.86      0.82       498\n",
      "          3       0.54      0.41      0.46       204\n",
      "          4       0.56      0.40      0.46       173\n",
      "\n",
      "avg / total       0.75      0.77      0.76      1437\n",
      "\n"
     ]
    }
   ],
   "source": [
    "print(\"----------------------------------------------------------------------------------------------\")\n",
    "print(\"classification report: \",classification_report(labels_test, predict))"
   ]
  },
  {
   "cell_type": "code",
   "execution_count": 159,
   "metadata": {
    "collapsed": true
   },
   "outputs": [],
   "source": [
    "def plot_confusion_matrix(cm, classes,\n",
    "                          normalize=True,\n",
    "                          title='Confusion matrix',\n",
    "                          cmap=plt.cm.Blues):\n",
    "    \"\"\"\n",
    "    This function prints and plots the confusion matrix.\n",
    "    Normalization can be applied by setting `normalize=True`.\n",
    "    \"\"\"\n",
    "    plt.imshow(cm, interpolation='nearest', cmap=cmap)\n",
    "    plt.title(title)\n",
    "    plt.colorbar()\n",
    "    tick_marks = np.arange(len(classes))\n",
    "    plt.xticks(tick_marks, classes, rotation=45)\n",
    "    plt.yticks(tick_marks, classes)\n",
    "\n",
    "    if normalize:\n",
    "        cm = cm.astype('float') / cm.sum(axis=1)[:, np.newaxis]\n",
    "        cm = cm.round(2)\n",
    "        print(\"Normalized confusion matrix\")\n",
    "    else:\n",
    "        print('Confusion matrix, without normalization')\n",
    "\n",
    "    print(cm)\n",
    "\n",
    "    thresh = cm.max() / 2.\n",
    "    for i, j in itertools.product(range(cm.shape[0]), range(cm.shape[1])):\n",
    "        plt.text(j, i, cm[i, j],\n",
    "                 horizontalalignment=\"center\",\n",
    "                 color=\"white\" if cm[i, j] > thresh else \"black\")\n",
    "\n",
    "    plt.tight_layout()\n",
    "    plt.ylabel('True label')\n",
    "    plt.xlabel('Predicted label')"
   ]
  },
  {
   "cell_type": "code",
   "execution_count": 160,
   "metadata": {
    "collapsed": false
   },
   "outputs": [
    {
     "name": "stdout",
     "output_type": "stream",
     "text": [
      "Normalized confusion matrix\n",
      "[[ 0.94  0.03  0.02  0.01]\n",
      " [ 0.07  0.86  0.04  0.03]\n",
      " [ 0.12  0.3   0.4   0.18]\n",
      " [ 0.15  0.24  0.21  0.4 ]]\n"
     ]
    },
    {
     "data": {
      "image/png": "[encoded data removed]",
      "text/plain": [
       "<matplotlib.figure.Figure at 0x248afa518>"
      ]
     },
     "metadata": {},
     "output_type": "display_data"
    }
   ],
   "source": [
    "# Compute confusion matrix\n",
    "cnf_matrix = confusion_matrix(labels_test, predict)\n",
    "np.set_printoptions(precision=3)\n",
    "\n",
    "# Plot non-normalized confusion matrix\n",
    "#plt.figure()\n",
    "#plot_confusion_matrix(cnf_matrix, classes=[0,1],\n",
    "#title='Confusion matrix, without normalization')\n",
    "\n",
    "# Plot normalized confusion matrix\n",
    "plt.figure()\n",
    "plot_confusion_matrix(cnf_matrix, classes=[1,2,3,4], normalize=True,\n",
    "                      title='Normalized confusion matrix')\n",
    "\n",
    "plt.show()"
   ]
  },
  {
   "cell_type": "code",
   "execution_count": 173,
   "metadata": {
    "collapsed": false
   },
   "outputs": [],
   "source": [
    "learner = X_stacked\n",
    "learner['Y'] = data_text['Y']\n",
    "learner = learner.dropna(axis=0)"
   ]
  },
  {
   "cell_type": "code",
   "execution_count": 207,
   "metadata": {
    "collapsed": false,
    "scrolled": true
   },
   "outputs": [
    {
     "name": "stdout",
     "output_type": "stream",
     "text": [
      "100 :  0.45\n",
      "250 :  0.5\n",
      "500 :  0.59\n",
      "750 :  0.613333333333\n",
      "1000 :  0.665\n",
      "1250 :  0.66\n",
      "1500 :  0.683333333333\n",
      "1750 :  0.702857142857\n",
      "2000 :  0.655\n",
      "2250 :  0.691111111111\n",
      "2500 :  0.696\n",
      "2750 :  0.754545454545\n",
      "3000 :  0.735\n",
      "3250 :  0.7\n",
      "3500 :  0.724285714286\n",
      "3750 :  0.721333333333\n",
      "4000 :  0.7275\n",
      "4250 :  0.745882352941\n",
      "4500 :  0.712222222222\n",
      "4750 :  0.745263157895\n",
      "5000 :  0.727\n",
      "5250 :  0.720952380952\n",
      "5500 :  0.720909090909\n",
      "5750 :  0.765217391304\n",
      "6000 :  0.746666666667\n",
      "6250 :  0.7664\n",
      "6500 :  0.748461538462\n",
      "6750 :  0.742222222222\n",
      "7000 :  0.737142857143\n"
     ]
    }
   ],
   "source": [
    "size = [250*i if i>0 else 100 for i in range(29)]\n",
    "accuracy = []\n",
    "for n in size:\n",
    "    data = learner.sample(n)\n",
    "    train, test, labels_train, labels_test = train_test_split(data.drop('Y',1),data['Y'],\n",
    "                                                              test_size=0.20, random_state=42)\n",
    "    model_fin = KNeighborsClassifier(3)\n",
    "    model_fin = model_fin.fit(train, labels_train)\n",
    "    predict = model_fin.predict(test)\n",
    "    accuracy.append(accuracy_score(labels_test, predict))\n",
    "    print(n,': ', accuracy_score(labels_test, predict))"
   ]
  },
  {
   "cell_type": "code",
   "execution_count": 208,
   "metadata": {
    "collapsed": false
   },
   "outputs": [
    {
     "data": {
      "image/png": "[encoded data removed]",
      "text/plain": [
       "<matplotlib.figure.Figure at 0x248addeb8>"
      ]
     },
     "metadata": {},
     "output_type": "display_data"
    }
   ],
   "source": [
    "plt.figure()\n",
    "plt.plot(accuracy)\n",
    "plt.title('Learning curve')\n",
    "plt.xticks(np.arange(len(size)), size, rotation=45)\n",
    "plt.tight_layout()\n",
    "plt.ylabel('Accuracy score')\n",
    "plt.xlabel('Sample size')\n",
    "plt.show()"
   ]
  },
  {
   "cell_type": "code",
   "execution_count": 215,
   "metadata": {
    "collapsed": false
   },
   "outputs": [
    {
     "data": {
      "text/plain": [
       "Index([             'BoW',                  0,                  1,\n",
       "                        2,                  3,                  4,\n",
       "                        5,                  6,                  0,\n",
       "                        1,                  2,                  3,\n",
       "                        4,            'index',         'watchers',\n",
       "          'dependenciesN', 'label_initiative',     'label_metric',\n",
       "        'label_objective',      'label_other',       'label_pvvm',\n",
       "         'label_strategy',            'order',             'Info',\n",
       "                 'Energy',           'Access',                'Y'],\n",
       "      dtype='object')"
      ]
     },
     "execution_count": 215,
     "metadata": {},
     "output_type": "execute_result"
    }
   ],
   "source": [
    "X_stacked.isnull().columns"
   ]
  },
  {
   "cell_type": "code",
   "execution_count": 294,
   "metadata": {
    "collapsed": false
   },
   "outputs": [
    {
     "name": "stdout",
     "output_type": "stream",
     "text": [
      "Features sorted by their score:\n"
     ]
    },
    {
     "ename": "TypeError",
     "evalue": "unorderable types: int() < str()",
     "output_type": "error",
     "traceback": [
      "\u001b[0;31m---------------------------------------------------------------------------\u001b[0m",
      "\u001b[0;31mTypeError\u001b[0m                                 Traceback (most recent call last)",
      "\u001b[0;32m<ipython-input-294-80b54196b9d5>\u001b[0m in \u001b[0;36m<module>\u001b[0;34m()\u001b[0m\n\u001b[1;32m     23\u001b[0m \u001b[0mprint\u001b[0m \u001b[0;34m(\u001b[0m\u001b[0;34m\"Features sorted by their score:\"\u001b[0m\u001b[0;34m)\u001b[0m\u001b[0;34m\u001b[0m\u001b[0m\n\u001b[1;32m     24\u001b[0m print (sorted([(round(np.mean(score), 4), feat) for\n\u001b[0;32m---> 25\u001b[0;31m               feat, score in scores.items()], reverse=True))\n\u001b[0m",
      "\u001b[0;31mTypeError\u001b[0m: unorderable types: int() < str()"
     ]
    }
   ],
   "source": [
    "from sklearn.cross_validation import ShuffleSplit\n",
    "from sklearn.metrics import r2_score\n",
    "from collections import defaultdict\n",
    " \n",
    "X = X_stacked.values\n",
    "Y = data_text['Y'].values\n",
    " \n",
    "rf = KNeighborsClassifier(3)\n",
    "scores = defaultdict(list)\n",
    "names = X_stacked.columns\n",
    "\n",
    "#crossvalidate the scores on a number of different random splits of the data\n",
    "for train_idx, test_idx in ShuffleSplit(len(X), 100, .3):\n",
    "    X_train, X_test = X[train_idx], X[test_idx]\n",
    "    Y_train, Y_test = Y[train_idx], Y[test_idx]\n",
    "    r = rf.fit(X_train, Y_train)\n",
    "    acc = accuracy_score(Y_test, rf.predict(X_test))\n",
    "    for i in range(X.shape[1]):\n",
    "        X_t = X_test.copy()\n",
    "        np.random.shuffle(X_t[:, i])\n",
    "        shuff_acc = accuracy_score(Y_test, rf.predict(X_t))\n",
    "        scores[names[i]].append((acc-shuff_acc)/acc)\n",
    "print (\"Features sorted by their score:\")\n",
    "print (sorted([(round(np.mean(score), 4), feat) for\n",
    "              feat, score in scores.items()], reverse=True))"
   ]
  },
  {
   "cell_type": "code",
   "execution_count": 307,
   "metadata": {
    "collapsed": false
   },
   "outputs": [
    {
     "name": "stdout",
     "output_type": "stream",
     "text": [
      "[0, -0.0]\n",
      "[1, -0.0]\n",
      "[2, 0.0]\n",
      "[3, 0.0]\n",
      "[4, 0.0]\n",
      "[5, -0.0]\n",
      "[6, 0.0]\n",
      "['label_strategy', -0.0]\n",
      "['label_pvvm', 0.0]\n",
      "['watchers', 0.001]\n",
      "['label_metric', 0.0]\n",
      "['Access', 0.0050000000000000001]\n",
      "['index', 0.55400000000000005]\n",
      "['Info', 0.02]\n",
      "['order', 0.002]\n",
      "['label_initiative', 0.0]\n",
      "['dependenciesN', 0.0050000000000000001]\n",
      "['BoW', 0.01]\n",
      "['Energy', -0.0]\n",
      "['label_objective', 0.0]\n",
      "['label_other', 0.0]\n"
     ]
    }
   ],
   "source": [
    "for feat,score in scores.items():\n",
    "    print([feat,round(np.mean(score),3)])"
   ]
  },
  {
   "cell_type": "markdown",
   "metadata": {},
   "source": [
    "## Manually create a dictionary bc this takes long:"
   ]
  },
  {
   "cell_type": "code",
   "execution_count": 269,
   "metadata": {
    "collapsed": false
   },
   "outputs": [],
   "source": [
    "featureImp = {'BoW':0.32900000000000001,'Info':0.066000000000000003,'Access':0.0487,\n",
    " 'order':0.030800000000000001,'watchers':0.0298, \"dependenciesN\":0.025600000000000001,\n",
    " 'Energy':0.0016000000000000001}"
   ]
  },
  {
   "cell_type": "code",
   "execution_count": 229,
   "metadata": {
    "collapsed": true
   },
   "outputs": [],
   "source": [
    "columns = ['BoW','len_token','max_stree','perc_ents','perc_propn','perc_nounch','perc_oov','perc_num','0','1','2','3','4','index',         'watchers',\n",
    "          'dependenciesN', 'label_initiative',     'label_metric',\n",
    "        'label_objective',      'label_other',       'label_pvvm',\n",
    "         'label_strategy',            'order',             'Info',\n",
    "                 'Energy',           'Access',                'Y']"
   ]
  },
  {
   "cell_type": "code",
   "execution_count": 230,
   "metadata": {
    "collapsed": true
   },
   "outputs": [],
   "source": [
    "X_stacked.columns = columns"
   ]
  },
  {
   "cell_type": "code",
   "execution_count": 233,
   "metadata": {
    "collapsed": false
   },
   "outputs": [
    {
     "data": {
      "text/plain": [
       "(7182, 27)"
      ]
     },
     "execution_count": 233,
     "metadata": {},
     "output_type": "execute_result"
    }
   ],
   "source": [
    "X_stacked.shape"
   ]
  },
  {
   "cell_type": "code",
   "execution_count": 234,
   "metadata": {
    "collapsed": false
   },
   "outputs": [
    {
     "data": {
      "text/plain": [
       "(7182,)"
      ]
     },
     "execution_count": 234,
     "metadata": {},
     "output_type": "execute_result"
    }
   ],
   "source": [
    "data_text.Y.shape"
   ]
  },
  {
   "cell_type": "code",
   "execution_count": null,
   "metadata": {
    "collapsed": true
   },
   "outputs": [],
   "source": []
  }
 ],
 "metadata": {
  "anaconda-cloud": {},
  "kernelspec": {
   "display_name": "Python [conda env:python3_env]",
   "language": "python",
   "name": "conda-env-python3_env-py"
  },
  "language_info": {
   "codemirror_mode": {
    "name": "ipython",
    "version": 3
   },
   "file_extension": ".py",
   "mimetype": "text/x-python",
   "name": "python",
   "nbconvert_exporter": "python",
   "pygments_lexer": "ipython3",
   "version": "3.5.2"
  }
 },
 "nbformat": 4,
 "nbformat_minor": 1
}
