{
 "cells": [
  {
   "cell_type": "markdown",
   "metadata": {},
   "source": [
    "# Dependencies and global options"
   ]
  },
  {
   "cell_type": "code",
   "execution_count": 1,
   "metadata": {
    "collapsed": true
   },
   "outputs": [],
   "source": [
    "#%reset\n",
    "import glob\n",
    "import os\n",
    "import pandas as pd\n",
    "import re\n",
    "import numpy as np\n",
    "import matplotlib as mpl\n",
    "import matplotlib.pyplot as plt\n",
    "import types\n",
    "import warnings\n",
    "import itertools"
   ]
  },
  {
   "cell_type": "code",
   "execution_count": 2,
   "metadata": {
    "collapsed": true
   },
   "outputs": [],
   "source": [
    "pd.set_option('display.max_colwidth', -1)\n",
    "pd.options.display.max_columns = None"
   ]
  },
  {
   "cell_type": "markdown",
   "metadata": {},
   "source": [
    "## (Extra) Dependencies for BoW Model:"
   ]
  },
  {
   "cell_type": "code",
   "execution_count": 3,
   "metadata": {
    "collapsed": true
   },
   "outputs": [],
   "source": [
    "from sklearn.feature_extraction.text import TfidfVectorizer\n",
    "from sklearn.base import TransformerMixin\n",
    "from sklearn.pipeline import Pipeline\n",
    "from sklearn.svm import LinearSVC\n",
    "from sklearn.feature_extraction.stop_words import ENGLISH_STOP_WORDS\n",
    "from sklearn.metrics import accuracy_score\n",
    "from sklearn.model_selection import train_test_split\n",
    "from nltk.corpus import stopwords\n",
    "import string\n",
    "from spacy.en import English\n",
    "import spacy"
   ]
  },
  {
   "cell_type": "markdown",
   "metadata": {},
   "source": [
    "## (Extra) Dependencies for text models:"
   ]
  },
  {
   "cell_type": "code",
   "execution_count": 4,
   "metadata": {
    "collapsed": true
   },
   "outputs": [],
   "source": [
    "from sklearn import preprocessing\n",
    "from sklearn.tree import DecisionTreeClassifier\n",
    "from sklearn.metrics import classification_report\n",
    "from sklearn.ensemble import AdaBoostClassifier\n",
    "from sklearn.neighbors import KNeighborsClassifier\n",
    "from sklearn.metrics import  confusion_matrix\n",
    "import mord as m\n",
    "from wordcloud import WordCloud\n",
    "import random"
   ]
  },
  {
   "cell_type": "markdown",
   "metadata": {},
   "source": [
    "## NLP functions"
   ]
  },
  {
   "cell_type": "code",
   "execution_count": 5,
   "metadata": {
    "collapsed": true
   },
   "outputs": [],
   "source": [
    "parser = English()\n",
    "nlp = spacy.load('en')"
   ]
  },
  {
   "cell_type": "markdown",
   "metadata": {},
   "source": [
    "# Querying databases and importing data"
   ]
  },
  {
   "cell_type": "markdown",
   "metadata": {},
   "source": [
    "First I import all their data as a dictionary of datasets from which I will extract the features for different models. The files are all in the dicrectory ``/raw_data``: "
   ]
  },
  {
   "cell_type": "code",
   "execution_count": 6,
   "metadata": {
    "collapsed": true
   },
   "outputs": [],
   "source": [
    "path =r'raw_data' # use your path\n",
    "allFiles = glob.glob(path + \"/*.csv\")\n",
    "frame = pd.DataFrame()\n",
    "databases = {}\n",
    "for file_ in allFiles:\n",
    "    df = pd.read_csv(file_,index_col=None, header=0,low_memory=False)\n",
    "    databases[re.sub(r'\\W.*','',re.sub(r'.*/', '', file_))] = df"
   ]
  },
  {
   "cell_type": "markdown",
   "metadata": {},
   "source": [
    "An instance of this data (an item) is a business objective, and the model will try to predict whether the objective will be completed or not by extracting various types of features from the natural language description of the objective and the non-text data associated with it in the CrossLead database. The dataset starts with a unique identifyier for the objective, called ```_id```"
   ]
  },
  {
   "cell_type": "code",
   "execution_count": 7,
   "metadata": {
    "collapsed": true
   },
   "outputs": [],
   "source": [
    "item_id = databases['triangleLayerItems']._id\n",
    "layer_id = databases['triangleLayerItems'].triangleLayerId\n",
    "data = pd.concat([item_id,layer_id],axis=1)"
   ]
  },
  {
   "cell_type": "markdown",
   "metadata": {},
   "source": [
    "## Building target variable"
   ]
  },
  {
   "cell_type": "markdown",
   "metadata": {},
   "source": [
    "The target variable will be user updated 'percentage complete', which is done by extracting from the status update list for each objective the last instance of percentage complete:"
   ]
  },
  {
   "cell_type": "code",
   "execution_count": 8,
   "metadata": {
    "collapsed": false
   },
   "outputs": [
    {
     "data": {
      "text/plain": [
       "'[{\"createdAt\":{\"$date\":\"2015-06-11T17:14:26.220Z\"},\"updatedAt\":{\"$date\":\"2015-06-11T17:14:26.220Z\"},\"percent\":0,\"color\":2,\"type\":1},{\"createdAt\":{\"$date\":\"2015-06-11T17:14:26.220Z\"},\"updatedAt\":{\"$date\":\"2015-06-11T17:14:31.015Z\"},\"percent\":0,\"color\":1,\"type\":1},{\"createdAt\":{\"$date\":\"2015-06-11T17:14:26.220Z\"},\"updatedAt\":{\"$date\":\"2015-07-16T18:43:26.024Z\"},\"percent\":0,\"color\":2,\"type\":1},{\"createdAt\":{\"$date\":\"2015-06-11T17:14:26.220Z\"},\"updatedAt\":{\"$date\":\"2015-07-17T20:18:40.201Z\"},\"percent\":0,\"color\":2,\"type\":1},{\"updatedAt\":{\"$date\":\"2015-10-01T19:18:03.455Z\"},\"percent\":50,\"color\":1,\"type\":1,\"id\":{\"$oid\":\"560d86eb7a9c381622ea7be6\"}}]'"
      ]
     },
     "execution_count": 8,
     "metadata": {},
     "output_type": "execute_result"
    }
   ],
   "source": [
    "databases['triangleLayerItems'].statuses[5]"
   ]
  },
  {
   "cell_type": "code",
   "execution_count": 8,
   "metadata": {
    "collapsed": true
   },
   "outputs": [],
   "source": [
    "data['fin_status'] = databases['triangleLayerItems'].statuses.str.replace(r'.*\"percent\":', '').str.replace(r',.*','')\n",
    "data['fin_status'] = pd.to_numeric(data['fin_status'],errors='coerce')"
   ]
  },
  {
   "cell_type": "code",
   "execution_count": 10,
   "metadata": {
    "collapsed": false
   },
   "outputs": [
    {
     "data": {
      "image/png": "[encoded data removed]",
      "text/plain": [
       "<matplotlib.figure.Figure at 0x213b5e278>"
      ]
     },
     "metadata": {},
     "output_type": "display_data"
    }
   ],
   "source": [
    "#Visualization of target variable:\n",
    "plt.hist(data['fin_status'].dropna(),color='blue',range=(0, 100))\n",
    "plt.title(\"Completed status\")\n",
    "plt.xlabel(\"Percent complete\")\n",
    "plt.ylabel(\"Frequency\")\n",
    "plt.show()"
   ]
  },
  {
   "cell_type": "code",
   "execution_count": 9,
   "metadata": {
    "collapsed": false
   },
   "outputs": [
    {
     "data": {
      "text/plain": [
       "2753"
      ]
     },
     "execution_count": 9,
     "metadata": {},
     "output_type": "execute_result"
    }
   ],
   "source": [
    "#Plus a large number of missing values:\n",
    "data['fin_status'].isnull().sum()"
   ]
  },
  {
   "cell_type": "markdown",
   "metadata": {},
   "source": [
    "I will bin the target variable into four classes: NA's, Zeroes, (0,50], and (50-100]:"
   ]
  },
  {
   "cell_type": "code",
   "execution_count": 10,
   "metadata": {
    "collapsed": true
   },
   "outputs": [],
   "source": [
    "data.loc[data.loc[:,'fin_status'].isnull()==True,'completed'] = int(1)\n",
    "data.loc[(data.loc[:,'fin_status']==0),'completed'] = 2\n",
    "data.loc[(data.loc[:,'fin_status']>0) & (data.loc[:,'fin_status']<=50),'completed'] = int(3)\n",
    "data.loc[(data.loc[:,'fin_status']>50),'completed'] = int(4)"
   ]
  },
  {
   "cell_type": "markdown",
   "metadata": {},
   "source": [
    "Also, get rid of the pesky float type for 'completed'"
   ]
  },
  {
   "cell_type": "code",
   "execution_count": 11,
   "metadata": {
    "collapsed": false
   },
   "outputs": [],
   "source": [
    "data.completed = data.completed.astype(int)"
   ]
  },
  {
   "cell_type": "code",
   "execution_count": 12,
   "metadata": {
    "collapsed": false
   },
   "outputs": [
    {
     "data": {
      "text/plain": [
       "1    2753\n",
       "2    2589\n",
       "3    978 \n",
       "4    865 \n",
       "Name: completed, dtype: int64"
      ]
     },
     "execution_count": 12,
     "metadata": {},
     "output_type": "execute_result"
    }
   ],
   "source": [
    "data.completed.value_counts()"
   ]
  },
  {
   "cell_type": "markdown",
   "metadata": {},
   "source": [
    "## Getting text variable"
   ]
  },
  {
   "cell_type": "code",
   "execution_count": 13,
   "metadata": {
    "collapsed": true
   },
   "outputs": [],
   "source": [
    "data['item_name'] = databases['triangleLayerItems'].name"
   ]
  },
  {
   "cell_type": "code",
   "execution_count": 16,
   "metadata": {
    "collapsed": false
   },
   "outputs": [
    {
     "data": {
      "text/plain": [
       "(7185, 5)"
      ]
     },
     "execution_count": 16,
     "metadata": {},
     "output_type": "execute_result"
    }
   ],
   "source": [
    "data.shape"
   ]
  },
  {
   "cell_type": "markdown",
   "metadata": {},
   "source": [
    "## Non-text features"
   ]
  },
  {
   "cell_type": "markdown",
   "metadata": {},
   "source": [
    "First, I'm going to need the Layer Id of the objective:"
   ]
  },
  {
   "cell_type": "markdown",
   "metadata": {},
   "source": [
    "### Number of 'watchers' and 'dependencies' an objective has:"
   ]
  },
  {
   "cell_type": "code",
   "execution_count": 14,
   "metadata": {
    "collapsed": false
   },
   "outputs": [
    {
     "data": {
      "text/plain": [
       "1    3919\n",
       "0    1909\n",
       "2    1065\n",
       "3    201 \n",
       "4    51  \n",
       "5    25  \n",
       "6    11  \n",
       "7    4   \n",
       "Name: watchers, dtype: int64"
      ]
     },
     "execution_count": 14,
     "metadata": {},
     "output_type": "execute_result"
    }
   ],
   "source": [
    "data['watchers'] = [str(element).count('oid') for element in databases['triangleLayerItems'].watchers]\n",
    "data.watchers.value_counts()"
   ]
  },
  {
   "cell_type": "code",
   "execution_count": 15,
   "metadata": {
    "collapsed": false
   },
   "outputs": [],
   "source": [
    "data['dependenciesN'] = [str(element).count('created') for element in databases['triangleLayerItems'].dependencies]\n",
    "#data['dependenciesN'].value_counts()"
   ]
  },
  {
   "cell_type": "markdown",
   "metadata": {},
   "source": [
    "### Labels"
   ]
  },
  {
   "cell_type": "code",
   "execution_count": 16,
   "metadata": {
    "collapsed": true
   },
   "outputs": [],
   "source": [
    "TLIlabels = sorted([item.lower() for item in databases['triangleLayers'].label.unique()])"
   ]
  },
  {
   "cell_type": "code",
   "execution_count": 17,
   "metadata": {
    "collapsed": true
   },
   "outputs": [],
   "source": [
    "TLImap = ['objective','other','other','strategy','principle','principle','initiative','initiative',\n",
    "          'initiative','metric','metric','metric','metric','metric','mission','mission','objective',\n",
    "          'objective','mission','value','vision','metric','value','other','other','other','objective',\n",
    "          'principle','strategy','strategy','strategy','strategy','metric','metric','metric','other','other',\n",
    "          'mission','value','vision','vision','vision','vision']"
   ]
  },
  {
   "cell_type": "code",
   "execution_count": 18,
   "metadata": {
    "collapsed": true
   },
   "outputs": [],
   "source": [
    "labelDict = {}\n",
    "for label,value in zip(TLIlabels,TLImap):\n",
    "    labelDict[label] = value"
   ]
  },
  {
   "cell_type": "code",
   "execution_count": 20,
   "metadata": {
    "collapsed": true
   },
   "outputs": [],
   "source": [
    "gen = data.iterrows()\n",
    "labels = []\n",
    "order = []\n",
    "for index,row in gen:\n",
    "    try:\n",
    "        labels.append(databases['triangleLayers'].loc[(databases['triangleLayers']._id == row['triangleLayerId']),\n",
    "                                                      'label'].item())\n",
    "    except:\n",
    "        labels.append(np.nan)\n",
    "    try:\n",
    "        order.append(databases['triangleLayers'].loc[(databases['triangleLayers']._id == row['triangleLayerId']),\n",
    "                                                      'order'].item())\n",
    "    except:\n",
    "        order.append(np.nan)"
   ]
  },
  {
   "cell_type": "code",
   "execution_count": 21,
   "metadata": {
    "collapsed": false
   },
   "outputs": [],
   "source": [
    "data['labels'] = labels\n",
    "data['labels'] = data['labels'].str.lower().map(labelDict)"
   ]
  },
  {
   "cell_type": "code",
   "execution_count": 22,
   "metadata": {
    "collapsed": false
   },
   "outputs": [
    {
     "data": {
      "text/plain": [
       "initiative    2273\n",
       "metric        1115\n",
       "strategy      849 \n",
       "objective     526 \n",
       "other         521 \n",
       "principle     97  \n",
       "vision        40  \n",
       "value         34  \n",
       "mission       32  \n",
       "Name: labels, dtype: int64"
      ]
     },
     "execution_count": 22,
     "metadata": {},
     "output_type": "execute_result"
    }
   ],
   "source": [
    "data['labels'].value_counts()"
   ]
  },
  {
   "cell_type": "markdown",
   "metadata": {},
   "source": [
    "Make label even smaller by grouping the top level types (value,vision, mission, principle) into 'mvvp' label, and get NoLabel also as a category (empty string):"
   ]
  },
  {
   "cell_type": "code",
   "execution_count": 23,
   "metadata": {
    "collapsed": true
   },
   "outputs": [],
   "source": [
    "#make new dictionary:\n",
    "labelDict_comp = {'initiative':'initiative', 'strategy':'strategy', 'objective':'objective', \n",
    "                  'vision':'pvvm', 'principle':'pvvm',\n",
    "       'metric':'metric', 'other':'other', 'mission':'pvvm', 'value':'pvvm'}"
   ]
  },
  {
   "cell_type": "code",
   "execution_count": 24,
   "metadata": {
    "collapsed": false
   },
   "outputs": [
    {
     "data": {
      "text/plain": [
       "initiative    2273\n",
       "              1698\n",
       "metric        1115\n",
       "strategy      849 \n",
       "objective     526 \n",
       "other         521 \n",
       "pvvm          203 \n",
       "Name: labels, dtype: int64"
      ]
     },
     "execution_count": 24,
     "metadata": {},
     "output_type": "execute_result"
    }
   ],
   "source": [
    "data['labels'] = data['labels'].map(labelDict_comp)\n",
    "data['labels'] = data['labels'].fillna('')\n",
    "data['labels'].value_counts()"
   ]
  },
  {
   "cell_type": "code",
   "execution_count": 25,
   "metadata": {
    "collapsed": true
   },
   "outputs": [],
   "source": [
    "data['order'] = order\n",
    "data['userId'] = databases['triangleLayerItems'].userId"
   ]
  },
  {
   "cell_type": "markdown",
   "metadata": {},
   "source": [
    "Labels is a categorical variable, so I have to create dummies:"
   ]
  },
  {
   "cell_type": "code",
   "execution_count": 26,
   "metadata": {
    "collapsed": false
   },
   "outputs": [
    {
     "data": {
      "text/plain": [
       "Index(['label_', 'label_initiative', 'label_metric', 'label_objective',\n",
       "       'label_other', 'label_pvvm', 'label_strategy'],\n",
       "      dtype='object')"
      ]
     },
     "execution_count": 26,
     "metadata": {},
     "output_type": "execute_result"
    }
   ],
   "source": [
    "label_ranks = pd.get_dummies(data['labels'].astype('category').values, prefix='label')\n",
    "label_ranks.columns"
   ]
  },
  {
   "cell_type": "code",
   "execution_count": 27,
   "metadata": {
    "collapsed": true
   },
   "outputs": [],
   "source": [
    "data = data.drop('labels',axis=1).join(label_ranks.ix[:, 'label_initiative':])"
   ]
  },
  {
   "cell_type": "markdown",
   "metadata": {},
   "source": [
    "## Get scores for 'owner of the objective'"
   ]
  },
  {
   "cell_type": "code",
   "execution_count": 28,
   "metadata": {
    "collapsed": true
   },
   "outputs": [],
   "source": [
    "users = databases['users']"
   ]
  },
  {
   "cell_type": "code",
   "execution_count": 29,
   "metadata": {
    "collapsed": true
   },
   "outputs": [],
   "source": [
    "users = users[['_id','emailLower']]"
   ]
  },
  {
   "cell_type": "code",
   "execution_count": 30,
   "metadata": {
    "collapsed": true
   },
   "outputs": [],
   "source": [
    "scores = pd.read_csv('user_scores.csv')"
   ]
  },
  {
   "cell_type": "code",
   "execution_count": 31,
   "metadata": {
    "collapsed": false
   },
   "outputs": [
    {
     "data": {
      "text/plain": [
       "Index(['Email', 'Info', 'Energy', 'Access'], dtype='object')"
      ]
     },
     "execution_count": 31,
     "metadata": {},
     "output_type": "execute_result"
    }
   ],
   "source": [
    "scores.columns"
   ]
  },
  {
   "cell_type": "code",
   "execution_count": 32,
   "metadata": {
    "collapsed": true
   },
   "outputs": [],
   "source": [
    "# append scores to users:\n",
    "gen = users.iterrows()\n",
    "Info = []\n",
    "Energy = []\n",
    "Access = []\n",
    "for index,row in gen:\n",
    "    try:\n",
    "        Info.append(scores.loc[(scores.Email == row['emailLower']),'Info'].item())\n",
    "    except:\n",
    "        Info.append(np.nan)\n",
    "    try:\n",
    "        Energy.append(scores.loc[(scores.Email == row['emailLower']),'Energy'].item())\n",
    "    except:\n",
    "        Energy.append(np.nan)\n",
    "    try:\n",
    "        Access.append(scores.loc[(scores.Email == row['emailLower']),'Access'].item())\n",
    "    except:\n",
    "        Access.append(np.nan)"
   ]
  },
  {
   "cell_type": "code",
   "execution_count": 33,
   "metadata": {
    "collapsed": false
   },
   "outputs": [
    {
     "name": "stderr",
     "output_type": "stream",
     "text": [
      "/Users/marleneguraieb/anaconda2/envs/python3_env/lib/python3.5/site-packages/pandas/core/indexing.py:296: SettingWithCopyWarning: \n",
      "A value is trying to be set on a copy of a slice from a DataFrame.\n",
      "Try using .loc[row_indexer,col_indexer] = value instead\n",
      "\n",
      "See the caveats in the documentation: http://pandas.pydata.org/pandas-docs/stable/indexing.html#indexing-view-versus-copy\n",
      "  self.obj[key] = _infer_fill_value(value)\n",
      "/Users/marleneguraieb/anaconda2/envs/python3_env/lib/python3.5/site-packages/pandas/core/indexing.py:476: SettingWithCopyWarning: \n",
      "A value is trying to be set on a copy of a slice from a DataFrame.\n",
      "Try using .loc[row_indexer,col_indexer] = value instead\n",
      "\n",
      "See the caveats in the documentation: http://pandas.pydata.org/pandas-docs/stable/indexing.html#indexing-view-versus-copy\n",
      "  self.obj[item] = s\n"
     ]
    }
   ],
   "source": [
    "users.loc[:,'Info'] = Info\n",
    "users.loc[:,'Energy'] = Energy\n",
    "users.loc[:,'Access'] = Access"
   ]
  },
  {
   "cell_type": "code",
   "execution_count": 34,
   "metadata": {
    "collapsed": true
   },
   "outputs": [],
   "source": [
    "# Now append user data to my data:\n",
    "gen = data.iterrows()\n",
    "Info = []\n",
    "Energy = []\n",
    "Access = []\n",
    "for index,row in gen:\n",
    "    try:\n",
    "        Info.append(users.loc[(users._id == row['userId']),'Info'].item())\n",
    "    except:\n",
    "        Info.append(np.nan)\n",
    "    try:\n",
    "        Energy.append(users.loc[(users._id == row['userId']),'Energy'].item())\n",
    "    except:\n",
    "        Energy.append(np.nan)\n",
    "    try:\n",
    "        Access.append(users.loc[(users._id == row['userId']),'Access'].item())\n",
    "    except:\n",
    "        Access.append(np.nan)"
   ]
  },
  {
   "cell_type": "code",
   "execution_count": 35,
   "metadata": {
    "collapsed": true
   },
   "outputs": [],
   "source": [
    "data['Info'] = Info\n",
    "data['Energy'] = Energy\n",
    "data['Access'] = Access"
   ]
  },
  {
   "cell_type": "code",
   "execution_count": 36,
   "metadata": {
    "collapsed": true
   },
   "outputs": [],
   "source": [
    "data = data[['watchers','dependenciesN'] + \n",
    "            list(label_ranks.columns[1:].values) + \n",
    "            ['order','Info','Energy','Access','item_name','completed']]"
   ]
  },
  {
   "cell_type": "markdown",
   "metadata": {},
   "source": [
    "## Missing values"
   ]
  },
  {
   "cell_type": "markdown",
   "metadata": {},
   "source": [
    "If the text (description of objectives, ```item_name```) is missing, then none of the text models will run and the stack will have different sizes, so first I get rid of the columns which have missing item names:"
   ]
  },
  {
   "cell_type": "code",
   "execution_count": 37,
   "metadata": {
    "collapsed": false
   },
   "outputs": [],
   "source": [
    "data = data.dropna(subset=['item_name'], how='all')"
   ]
  },
  {
   "cell_type": "markdown",
   "metadata": {},
   "source": [
    "The rest of the numeric features I will replace with the mean, to not loose more observations:"
   ]
  },
  {
   "cell_type": "code",
   "execution_count": 38,
   "metadata": {
    "collapsed": false
   },
   "outputs": [],
   "source": [
    "data = data.fillna(data.mean())"
   ]
  },
  {
   "cell_type": "code",
   "execution_count": 39,
   "metadata": {
    "collapsed": false
   },
   "outputs": [
    {
     "data": {
      "text/html": [
       "<div>\n",
       "<table border=\"1\" class=\"dataframe\">\n",
       "  <thead>\n",
       "    <tr style=\"text-align: right;\">\n",
       "      <th></th>\n",
       "      <th>watchers</th>\n",
       "      <th>dependenciesN</th>\n",
       "      <th>label_initiative</th>\n",
       "      <th>label_metric</th>\n",
       "      <th>label_objective</th>\n",
       "      <th>label_other</th>\n",
       "      <th>label_pvvm</th>\n",
       "      <th>label_strategy</th>\n",
       "      <th>order</th>\n",
       "      <th>Info</th>\n",
       "      <th>Energy</th>\n",
       "      <th>Access</th>\n",
       "      <th>completed</th>\n",
       "    </tr>\n",
       "  </thead>\n",
       "  <tbody>\n",
       "    <tr>\n",
       "      <th>count</th>\n",
       "      <td>7182.000000</td>\n",
       "      <td>7182.000000</td>\n",
       "      <td>7182.000000</td>\n",
       "      <td>7182.000000</td>\n",
       "      <td>7182.000000</td>\n",
       "      <td>7182.000000</td>\n",
       "      <td>7182.000000</td>\n",
       "      <td>7182.000000</td>\n",
       "      <td>7182.000000</td>\n",
       "      <td>7182.000000</td>\n",
       "      <td>7182.000000</td>\n",
       "      <td>7182.000000</td>\n",
       "      <td>7182.000000</td>\n",
       "    </tr>\n",
       "    <tr>\n",
       "      <th>mean</th>\n",
       "      <td>0.984823</td>\n",
       "      <td>0.691172</td>\n",
       "      <td>0.316486</td>\n",
       "      <td>0.155110</td>\n",
       "      <td>0.073099</td>\n",
       "      <td>0.072542</td>\n",
       "      <td>0.028265</td>\n",
       "      <td>0.118212</td>\n",
       "      <td>3.859617</td>\n",
       "      <td>9.489762</td>\n",
       "      <td>6.107059</td>\n",
       "      <td>5.059783</td>\n",
       "      <td>1.994152</td>\n",
       "    </tr>\n",
       "    <tr>\n",
       "      <th>std</th>\n",
       "      <td>0.838875</td>\n",
       "      <td>2.344719</td>\n",
       "      <td>0.465137</td>\n",
       "      <td>0.362035</td>\n",
       "      <td>0.260318</td>\n",
       "      <td>0.259402</td>\n",
       "      <td>0.165741</td>\n",
       "      <td>0.322882</td>\n",
       "      <td>0.994618</td>\n",
       "      <td>2.991170</td>\n",
       "      <td>0.181900</td>\n",
       "      <td>1.781464</td>\n",
       "      <td>1.000470</td>\n",
       "    </tr>\n",
       "    <tr>\n",
       "      <th>min</th>\n",
       "      <td>0.000000</td>\n",
       "      <td>0.000000</td>\n",
       "      <td>0.000000</td>\n",
       "      <td>0.000000</td>\n",
       "      <td>0.000000</td>\n",
       "      <td>0.000000</td>\n",
       "      <td>0.000000</td>\n",
       "      <td>0.000000</td>\n",
       "      <td>0.000000</td>\n",
       "      <td>1.000000</td>\n",
       "      <td>1.000000</td>\n",
       "      <td>1.000000</td>\n",
       "      <td>1.000000</td>\n",
       "    </tr>\n",
       "    <tr>\n",
       "      <th>25%</th>\n",
       "      <td>0.000000</td>\n",
       "      <td>0.000000</td>\n",
       "      <td>0.000000</td>\n",
       "      <td>0.000000</td>\n",
       "      <td>0.000000</td>\n",
       "      <td>0.000000</td>\n",
       "      <td>0.000000</td>\n",
       "      <td>0.000000</td>\n",
       "      <td>3.859617</td>\n",
       "      <td>9.489762</td>\n",
       "      <td>6.107059</td>\n",
       "      <td>5.059783</td>\n",
       "      <td>1.000000</td>\n",
       "    </tr>\n",
       "    <tr>\n",
       "      <th>50%</th>\n",
       "      <td>1.000000</td>\n",
       "      <td>0.000000</td>\n",
       "      <td>0.000000</td>\n",
       "      <td>0.000000</td>\n",
       "      <td>0.000000</td>\n",
       "      <td>0.000000</td>\n",
       "      <td>0.000000</td>\n",
       "      <td>0.000000</td>\n",
       "      <td>4.000000</td>\n",
       "      <td>9.489762</td>\n",
       "      <td>6.107059</td>\n",
       "      <td>5.059783</td>\n",
       "      <td>2.000000</td>\n",
       "    </tr>\n",
       "    <tr>\n",
       "      <th>75%</th>\n",
       "      <td>1.000000</td>\n",
       "      <td>0.000000</td>\n",
       "      <td>1.000000</td>\n",
       "      <td>0.000000</td>\n",
       "      <td>0.000000</td>\n",
       "      <td>0.000000</td>\n",
       "      <td>0.000000</td>\n",
       "      <td>0.000000</td>\n",
       "      <td>4.000000</td>\n",
       "      <td>9.489762</td>\n",
       "      <td>6.107059</td>\n",
       "      <td>5.059783</td>\n",
       "      <td>3.000000</td>\n",
       "    </tr>\n",
       "    <tr>\n",
       "      <th>max</th>\n",
       "      <td>7.000000</td>\n",
       "      <td>51.000000</td>\n",
       "      <td>1.000000</td>\n",
       "      <td>1.000000</td>\n",
       "      <td>1.000000</td>\n",
       "      <td>1.000000</td>\n",
       "      <td>1.000000</td>\n",
       "      <td>1.000000</td>\n",
       "      <td>6.000000</td>\n",
       "      <td>32.000000</td>\n",
       "      <td>7.000000</td>\n",
       "      <td>28.000000</td>\n",
       "      <td>4.000000</td>\n",
       "    </tr>\n",
       "  </tbody>\n",
       "</table>\n",
       "</div>"
      ],
      "text/plain": [
       "          watchers  dependenciesN  label_initiative  label_metric  \\\n",
       "count  7182.000000  7182.000000    7182.000000       7182.000000    \n",
       "mean   0.984823     0.691172       0.316486          0.155110       \n",
       "std    0.838875     2.344719       0.465137          0.362035       \n",
       "min    0.000000     0.000000       0.000000          0.000000       \n",
       "25%    0.000000     0.000000       0.000000          0.000000       \n",
       "50%    1.000000     0.000000       0.000000          0.000000       \n",
       "75%    1.000000     0.000000       1.000000          0.000000       \n",
       "max    7.000000     51.000000      1.000000          1.000000       \n",
       "\n",
       "       label_objective  label_other   label_pvvm  label_strategy        order  \\\n",
       "count  7182.000000      7182.000000  7182.000000  7182.000000     7182.000000   \n",
       "mean   0.073099         0.072542     0.028265     0.118212        3.859617      \n",
       "std    0.260318         0.259402     0.165741     0.322882        0.994618      \n",
       "min    0.000000         0.000000     0.000000     0.000000        0.000000      \n",
       "25%    0.000000         0.000000     0.000000     0.000000        3.859617      \n",
       "50%    0.000000         0.000000     0.000000     0.000000        4.000000      \n",
       "75%    0.000000         0.000000     0.000000     0.000000        4.000000      \n",
       "max    1.000000         1.000000     1.000000     1.000000        6.000000      \n",
       "\n",
       "              Info       Energy       Access    completed  \n",
       "count  7182.000000  7182.000000  7182.000000  7182.000000  \n",
       "mean   9.489762     6.107059     5.059783     1.994152     \n",
       "std    2.991170     0.181900     1.781464     1.000470     \n",
       "min    1.000000     1.000000     1.000000     1.000000     \n",
       "25%    9.489762     6.107059     5.059783     1.000000     \n",
       "50%    9.489762     6.107059     5.059783     2.000000     \n",
       "75%    9.489762     6.107059     5.059783     3.000000     \n",
       "max    32.000000    7.000000     28.000000    4.000000     "
      ]
     },
     "execution_count": 39,
     "metadata": {},
     "output_type": "execute_result"
    }
   ],
   "source": [
    "data.describe()"
   ]
  },
  {
   "cell_type": "code",
   "execution_count": 40,
   "metadata": {
    "collapsed": true
   },
   "outputs": [],
   "source": [
    "data_text = data[['item_name','completed']]\n",
    "data_text.columns = ['X','Y']"
   ]
  },
  {
   "cell_type": "code",
   "execution_count": 41,
   "metadata": {
    "collapsed": false
   },
   "outputs": [],
   "source": [
    "data_feat = data.drop('item_name',axis=1)\n",
    "data_feat.rename(columns={'completed':'Y'}, inplace=True)"
   ]
  },
  {
   "cell_type": "markdown",
   "metadata": {},
   "source": [
    "# Model 1: Tf-Idf + LinearSVC"
   ]
  },
  {
   "cell_type": "markdown",
   "metadata": {},
   "source": [
    "## Functions, classes definitions:"
   ]
  },
  {
   "cell_type": "code",
   "execution_count": 42,
   "metadata": {
    "collapsed": true
   },
   "outputs": [],
   "source": [
    "# Build a list of stopwords, remove 'the', because I'm interested in specificity. \n",
    "\n",
    "STOPLIST = set(stopwords.words('english') + [\"n't\", \"'s\", \"'m\", \"ca\"] + list(ENGLISH_STOP_WORDS))\n",
    "#STOPLIST.remove('the')\n",
    "# Remove symbols that are not alpha-numeric, replace them with a space\n",
    "SYMBOLS = \" \".join(string.punctuation).split(\" \") + [\"-----\", \"---\", \"...\", \"“\", \"”\", \"'ve\"]"
   ]
  },
  {
   "cell_type": "code",
   "execution_count": 43,
   "metadata": {
    "collapsed": true
   },
   "outputs": [],
   "source": [
    "# transformer that cleans text with spaCy\n",
    "class CleanTextTransformer(TransformerMixin):\n",
    "    \"\"\"\n",
    "    Convert text to cleaned text\n",
    "    \"\"\"\n",
    "\n",
    "    def transform(self, X, **transform_params):\n",
    "        return [cleanText(text) for text in X]\n",
    "\n",
    "    def fit(self, X, y=None, **fit_params):\n",
    "        return self\n",
    "\n",
    "    def get_params(self, deep=True):\n",
    "        return {}"
   ]
  },
  {
   "cell_type": "markdown",
   "metadata": {},
   "source": [
    "This is the main clean text function:"
   ]
  },
  {
   "cell_type": "code",
   "execution_count": 44,
   "metadata": {
    "collapsed": true
   },
   "outputs": [],
   "source": [
    "# function that cleans text:\n",
    "def cleanText(text):\n",
    "    # get rid of newlines, and non alpha-numeric characters\n",
    "    text = text.strip().replace(\"\\n\", \" \").replace(\"\\r\", \" \")\n",
    "    text = re.sub(r'([^\\s\\w]|_)+', ' ', text)\n",
    "    text = re.sub(' +',' ',text)   \n",
    "\n",
    "\n",
    "\n",
    "    #parse it\n",
    "    parsed_text = nlp(text)\n",
    "\n",
    "    # get rid of proper nouns\n",
    "    proper = []\n",
    "    token_isoov = [token.is_oov for token in parsed_text]\n",
    "    token_text = [token.orth_ for token in parsed_text]\n",
    "    token_pos = [token.pos_ for token in parsed_text]\n",
    "    for pos, word, oov in zip(token_pos,token_text,token_isoov):\n",
    "        if pos == 'PROPN' and oov==True:\n",
    "            proper.append(str(word))\n",
    "    for pro in proper:\n",
    "        text = text.replace(pro,' PROPN ')\n",
    "\n",
    "\n",
    "    #recode entities\n",
    "    ents = {}\n",
    "    for num,entity in enumerate(parsed_text.ents):\n",
    "        ents[entity.label_] = entity.orth_\n",
    "    for code, entity in ents.items():\n",
    "        text = text.replace(entity,str(' '+code+' '))\n",
    "        \n",
    "    \n",
    "    # lowercase\n",
    "    text = text.lower()\n",
    "    text = re.sub(' +',' ',text)  \n",
    "    \n",
    "    return text"
   ]
  },
  {
   "cell_type": "code",
   "execution_count": 45,
   "metadata": {
    "collapsed": true
   },
   "outputs": [],
   "source": [
    "# A custom function to tokenize the text using spaCy\n",
    "# and convert to lemmas\n",
    "def tokenizeText(sample):\n",
    "\n",
    "    # get the tokens using spaCy\n",
    "    tokens = parser(sample)\n",
    "\n",
    "    # lemmatize\n",
    "    lemmas = []\n",
    "    for tok in tokens:\n",
    "        lemmas.append(tok.lemma_.lower().strip() if tok.lemma_ != \"-PRON-\" else tok.lower_)\n",
    "    tokens = lemmas\n",
    "\n",
    "    # stoplist the tokens\n",
    "    tokens = [tok for tok in tokens if tok not in STOPLIST]\n",
    "\n",
    "    # stoplist symbols\n",
    "    tokens = [tok for tok in tokens if tok not in SYMBOLS]\n",
    "\n",
    "    # remove large strings of whitespace\n",
    "    while \"\" in tokens:\n",
    "        tokens.remove(\"\")\n",
    "    while \" \" in tokens:\n",
    "        tokens.remove(\" \")\n",
    "    while \"\\n\" in tokens:\n",
    "        tokens.remove(\"\\n\")\n",
    "    while \"\\n\\n\" in tokens:\n",
    "        tokens.remove(\"\\n\\n\")\n",
    "\n",
    "    return tokens"
   ]
  },
  {
   "cell_type": "markdown",
   "metadata": {},
   "source": [
    "## Fitting the pipeline"
   ]
  },
  {
   "cell_type": "code",
   "execution_count": 46,
   "metadata": {
    "collapsed": true
   },
   "outputs": [],
   "source": [
    "vectorizer = TfidfVectorizer(tokenizer=tokenizeText, ngram_range=(1,2))"
   ]
  },
  {
   "cell_type": "code",
   "execution_count": 47,
   "metadata": {
    "collapsed": true
   },
   "outputs": [],
   "source": [
    "clf_bow = LinearSVC()"
   ]
  },
  {
   "cell_type": "code",
   "execution_count": 48,
   "metadata": {
    "collapsed": true
   },
   "outputs": [],
   "source": [
    "# the pipeline to clean, tokenize, vectorize, and classify\n",
    "pipe = Pipeline([('cleanText', CleanTextTransformer()), ('vectorizer', vectorizer), ('clf', clf_bow)])"
   ]
  },
  {
   "cell_type": "code",
   "execution_count": 49,
   "metadata": {
    "collapsed": false
   },
   "outputs": [],
   "source": [
    "train, test, labels_train, labels_test = train_test_split(data_text.X,data_text.Y, test_size=0.20, random_state=42)"
   ]
  },
  {
   "cell_type": "code",
   "execution_count": 50,
   "metadata": {
    "collapsed": false
   },
   "outputs": [
    {
     "data": {
      "text/plain": [
       "Pipeline(steps=[('cleanText', <__main__.CleanTextTransformer object at 0x24b617908>), ('vectorizer', TfidfVectorizer(analyzer='word', binary=False, decode_error='strict',\n",
       "        dtype=<class 'numpy.int64'>, encoding='utf-8', input='content',\n",
       "        lowercase=True, max_df=1.0, max_features=None, min_df=1,\n",
       " ...ax_iter=1000,\n",
       "     multi_class='ovr', penalty='l2', random_state=None, tol=0.0001,\n",
       "     verbose=0))])"
      ]
     },
     "execution_count": 50,
     "metadata": {},
     "output_type": "execute_result"
    }
   ],
   "source": [
    "pipe.fit(train, labels_train)"
   ]
  },
  {
   "cell_type": "code",
   "execution_count": 51,
   "metadata": {
    "collapsed": true
   },
   "outputs": [],
   "source": [
    "preds_bow = pipe.predict(test)"
   ]
  },
  {
   "cell_type": "code",
   "execution_count": 52,
   "metadata": {
    "collapsed": false
   },
   "outputs": [
    {
     "name": "stdout",
     "output_type": "stream",
     "text": [
      "----------------------------------------------------------------------------------------------\n",
      "Accuracy score:  0.650661099513\n"
     ]
    }
   ],
   "source": [
    "print(\"----------------------------------------------------------------------------------------------\")\n",
    "print(\"Accuracy score: \",accuracy_score(labels_test, preds_bow))"
   ]
  },
  {
   "cell_type": "code",
   "execution_count": 53,
   "metadata": {
    "collapsed": true
   },
   "outputs": [],
   "source": [
    "#THis stores the predictions for the entire data set as predictions for model 1\n",
    "BoW_predict = pipe.predict(data_text.X)"
   ]
  },
  {
   "cell_type": "markdown",
   "metadata": {},
   "source": [
    "# Features II: syntax"
   ]
  },
  {
   "cell_type": "markdown",
   "metadata": {},
   "source": [
    "## Functions and definitions:"
   ]
  },
  {
   "cell_type": "markdown",
   "metadata": {},
   "source": [
    "Extract syntactic components from text data"
   ]
  },
  {
   "cell_type": "code",
   "execution_count": 54,
   "metadata": {
    "collapsed": true
   },
   "outputs": [],
   "source": [
    "# Extract all syntactic components from text and return a dictionary:\n",
    "def syntaxFeat(text):\n",
    "    # get rid of newlines, and non alpha-numeric characters\n",
    "    text = text.strip().replace(\"\\n\", \" \").replace(\"\\r\", \" \")\n",
    "    text = re.sub(r'([^\\s\\w]|_)+', ' ', text)\n",
    "    text = text.replace(' +',' ')\n",
    "\n",
    "\n",
    "    # parse it\n",
    "    parsed_text = nlp(text)\n",
    "    \n",
    "    # get tokens, and length\n",
    "    token_parsed = [token for token in parsed_text]\n",
    "    len_token = len(token_parsed)\n",
    "    \n",
    "    # Walk up the syntactic tree, collecting the arc labels.\n",
    "    len_dep = []\n",
    "    for token in token_parsed:\n",
    "        dep_labels = []\n",
    "        while token.head is not token:\n",
    "            dep_labels.append(token.dep_)\n",
    "            token = token.head\n",
    "        len_dep.append(len(dep_labels))\n",
    "    #this is the longest subtree, one variable you need to return\n",
    "    max_stree = max(len_dep)\n",
    "    \n",
    "    #count entities/length of sentence\n",
    "    perc_ents = len(parsed_text.ents)/len_token\n",
    "    \n",
    "    #count proper nouns\n",
    "    perc_propn = sum([token.pos_=='PROPN' for token in parsed_text])/len_token\n",
    "    \n",
    "    #count noun chunks\n",
    "    perc_nounch = len([token for token in parsed_text.noun_chunks])/len_token\n",
    "    \n",
    "    #count words out of vocabulary\n",
    "    perc_oov = sum([token.is_oov for token in parsed_text])/len_token\n",
    "    \n",
    "    #count numbers\n",
    "    perc_num = sum([token.like_num for token in parsed_text])/len_token\n",
    "    \n",
    "    return {'len_token':len_token,'max_stree':max_stree,'perc_ents':perc_ents,'perc_propn':perc_propn,\n",
    "            'perc_nounch':perc_nounch,'perc_oov':perc_oov,'perc_num':perc_num}"
   ]
  },
  {
   "cell_type": "code",
   "execution_count": 55,
   "metadata": {
    "collapsed": true
   },
   "outputs": [],
   "source": [
    "#Do syntax features for every row and return a dataframe\n",
    "def syntaxFeatures(df):    \n",
    "    syntax = pd.DataFrame()\n",
    "    for i in df.index.values:\n",
    "        temp = syntaxFeat(df.loc[i,'X'])\n",
    "        syntax = syntax.append(temp,ignore_index=True)\n",
    "    return syntax"
   ]
  },
  {
   "cell_type": "code",
   "execution_count": 56,
   "metadata": {
    "collapsed": true
   },
   "outputs": [],
   "source": [
    "X_syntax = preprocessing.normalize(syntaxFeatures(data_text))"
   ]
  },
  {
   "cell_type": "code",
   "execution_count": 58,
   "metadata": {
    "collapsed": true
   },
   "outputs": [],
   "source": [
    "#normalize gets rid of column names, so I'm going to store them here\n",
    "syntax_cols = ['len_token','max_stree','perc_ents','perc_propn','perc_nounch','perc_oov','perc_num']"
   ]
  },
  {
   "cell_type": "markdown",
   "metadata": {},
   "source": [
    "# Features III: Psyco-linguistics"
   ]
  },
  {
   "cell_type": "markdown",
   "metadata": {},
   "source": [
    "## Functions"
   ]
  },
  {
   "cell_type": "code",
   "execution_count": 59,
   "metadata": {
    "collapsed": true
   },
   "outputs": [],
   "source": [
    "#Get all the vocabulary in the corpus and its features:\n",
    "def vocab_pl(data):\n",
    "    #get dictionary data\n",
    "    pl_data = pd.read_csv('pl_dict_clean.csv')\n",
    "    pl_data = pl_data[['word','fam','conc','imag','kf_wf']]\n",
    "    pl_data = pl_data.dropna(thresh=2).drop_duplicates()\n",
    "    with warnings.catch_warnings():\n",
    "        warnings.simplefilter(\"ignore\", category=RuntimeWarning)\n",
    "        pl_data = pl_data.groupby('word').agg({'fam': np.nanmean,'conc': np.nanmean,'imag': np.nanmean, \n",
    "                                               'kf_wf':np.nanmean}).reset_index() \n",
    "\n",
    "    vocab = []\n",
    "    for i in data.index.values:\n",
    "        # get rid of newlines, and non alpha-numeric characters\n",
    "        text = data.loc[i,'X']\n",
    "        text = text.strip().replace(\"\\n\", \" \").replace(\"\\r\", \" \")\n",
    "        text = re.sub(r'([^\\s\\w]|_)+', ' ', text)\n",
    "        text = text.replace(' +',' ')\n",
    "        parsed_text = nlp(text)\n",
    "        token_text = [token.orth_ for token in parsed_text]\n",
    "        for token in token_text:\n",
    "            vocab.append(token.upper())\n",
    "    vocab = list(set(vocab))\n",
    "    \n",
    "    vocab_in_pl = [word for word in vocab if word in list(pl_data.word)]\n",
    "    pl_data =  pl_data[pl_data['word'].isin(vocab_in_pl)]\n",
    "    \n",
    "    return pl_data\n"
   ]
  },
  {
   "cell_type": "code",
   "execution_count": 60,
   "metadata": {
    "collapsed": true
   },
   "outputs": [],
   "source": [
    "# Score each sentence\n",
    "def pl_features(text,pl_data):\n",
    "        \n",
    "    # get rid of newlines, and non alpha-numeric characters\n",
    "    text = text.strip().replace(\"\\n\", \" \").replace(\"\\r\", \" \")\n",
    "    text = re.sub(r'([^\\s\\w]|_)+', ' ', text)\n",
    "    text = text.replace(' +',' ')\n",
    "\n",
    "    # parse it\n",
    "    parsed_text = nlp(text)\n",
    "    \n",
    "    # get tokens\n",
    "    token_text = [token.orth_ for token in parsed_text]\n",
    "\n",
    "    kf_scores = []\n",
    "    fam_scores = []\n",
    "    conc_scores = []\n",
    "    imag_scores = []\n",
    "    for token in token_text:\n",
    "        kf_scores.append(pl_data.loc[pl_data['word']==token.upper(),'kf_wf'].max())\n",
    "        fam_scores.append(pl_data.loc[pl_data['word']==token.upper(),'fam'].max())\n",
    "        conc_scores.append(pl_data.loc[pl_data['word']==token.upper(),'conc'].max())\n",
    "        imag_scores.append(pl_data.loc[pl_data['word']==token.upper(),'imag'].max())\n",
    "    with warnings.catch_warnings():\n",
    "        warnings.simplefilter(\"ignore\", category=RuntimeWarning)\n",
    "        kf =   np.nanmean(kf_scores)\n",
    "        fam =  np.nanmean(fam_scores)\n",
    "        conc = np.nanmean(conc_scores)\n",
    "        imag = np.nanmean(imag_scores)\n",
    "        perc_kf = 1-(np.isnan(kf_scores).sum()/len(kf_scores))\n",
    "    \n",
    "    return {'kf_score': kf,'fam_score': fam,'conc_score': conc,'imag_score': imag,'perc_kf': perc_kf}\n"
   ]
  },
  {
   "cell_type": "code",
   "execution_count": 61,
   "metadata": {
    "collapsed": true
   },
   "outputs": [],
   "source": [
    "#Run it for all the dataset:\n",
    "def plFeatures(df,pl_data):\n",
    "    #get dictionary data\n",
    "#    pl_data = vocab_pl(df)\n",
    "\n",
    "    pl = pd.DataFrame()\n",
    "    for i in df.index.values:\n",
    "        temp = pl_features(df.loc[i,'X'],pl_data)\n",
    "        pl = pl.append(temp,ignore_index=True)\n",
    "    return pl\n"
   ]
  },
  {
   "cell_type": "code",
   "execution_count": 62,
   "metadata": {
    "collapsed": false
   },
   "outputs": [],
   "source": [
    "#Get data from psycolinguistic dictionary\n",
    "pl_data = vocab_pl(data_text)"
   ]
  },
  {
   "cell_type": "code",
   "execution_count": 63,
   "metadata": {
    "collapsed": false
   },
   "outputs": [],
   "source": [
    "X_pl = plFeatures(data_text,pl_data)\n",
    "X_pl = preprocessing.normalize(X_pl.fillna(X_pl.mean()))"
   ]
  },
  {
   "cell_type": "markdown",
   "metadata": {},
   "source": [
    "# Stacked generalization: final model"
   ]
  },
  {
   "cell_type": "code",
   "execution_count": 180,
   "metadata": {
    "collapsed": false
   },
   "outputs": [],
   "source": [
    "X_stacked = pd.concat([pd.DataFrame(BoW_predict,columns=['BoW']),\n",
    "                       pd.DataFrame(X_syntax),\n",
    "                       pd.DataFrame(X_pl),\n",
    "                       data_feat.drop('Y',axis=1).reset_index()], axis=1, join='inner')"
   ]
  },
  {
   "cell_type": "markdown",
   "metadata": {},
   "source": [
    "The final features of the model include `index`, which is just the number of observation in the data. This serves to correct for time: given two objectives, the newer one is less likely to be updated. "
   ]
  },
  {
   "cell_type": "code",
   "execution_count": 181,
   "metadata": {
    "collapsed": false
   },
   "outputs": [],
   "source": [
    "train, test, labels_train, labels_test = train_test_split(X_stacked,data_text['Y'], test_size=0.20, random_state=42)"
   ]
  },
  {
   "cell_type": "markdown",
   "metadata": {},
   "source": [
    "I fit two final models because Kneighbors performs better now, but decision tree grows faster:"
   ]
  },
  {
   "cell_type": "code",
   "execution_count": 205,
   "metadata": {
    "collapsed": false
   },
   "outputs": [],
   "source": [
    "model_kn = KNeighborsClassifier(3)\n",
    "model_dt = DecisionTreeClassifier(criterion='gini',min_samples_split= 2, \n",
    "                             min_samples_leaf=1, max_depth= None, max_leaf_nodes= 5)\n",
    "model_kn = model_kn.fit(train, labels_train)\n",
    "model_dt = model_dt.fit(train, labels_train)"
   ]
  },
  {
   "cell_type": "code",
   "execution_count": 206,
   "metadata": {
    "collapsed": false
   },
   "outputs": [
    {
     "name": "stdout",
     "output_type": "stream",
     "text": [
      "accuracy Kneighbors: 0.76965901183\n",
      "accuracy Decision Tree: 0.650661099513\n"
     ]
    }
   ],
   "source": [
    "predict_kn = model_kn.predict(test)\n",
    "predict_dt = model_dt.predict(test)\n",
    "print(\"accuracy Kneighbors:\", accuracy_score(labels_test, predict_kn))\n",
    "print(\"accuracy Decision Tree:\", accuracy_score(labels_test, predict_dt))"
   ]
  },
  {
   "cell_type": "code",
   "execution_count": 207,
   "metadata": {
    "collapsed": false
   },
   "outputs": [
    {
     "name": "stdout",
     "output_type": "stream",
     "text": [
      "----------------------------------------------------------------------------------------------\n",
      "classification report:               precision    recall  f1-score   support\n",
      "\n",
      "          1       0.86      0.94      0.90       562\n",
      "          2       0.78      0.86      0.82       498\n",
      "          3       0.53      0.40      0.46       204\n",
      "          4       0.56      0.40      0.46       173\n",
      "\n",
      "avg / total       0.75      0.77      0.76      1437\n",
      "\n"
     ]
    }
   ],
   "source": [
    "print(\"----------------------------------------------------------------------------------------------\")\n",
    "print(\"classification report: \",classification_report(labels_test, predict_kn))"
   ]
  },
  {
   "cell_type": "markdown",
   "metadata": {},
   "source": [
    "# Visualization"
   ]
  },
  {
   "cell_type": "markdown",
   "metadata": {},
   "source": [
    "## Learning rate of two classifiers"
   ]
  },
  {
   "cell_type": "code",
   "execution_count": null,
   "metadata": {
    "collapsed": true
   },
   "outputs": [],
   "source": [
    "#train, test, labels_train, labels_test = train_test_split(X_stacked,data_text['Y'], test_size=0.20, random_state=42)\n",
    "train, test, labels_train, labels_test = train_test_split(X_stacked,data_text['Y'], test_size=0.20, random_state=42)"
   ]
  },
  {
   "cell_type": "code",
   "execution_count": 100,
   "metadata": {
    "collapsed": false
   },
   "outputs": [],
   "source": [
    "learner = X_stacked\n",
    "learner['Y'] = data_text['Y']\n",
    "learner = learner.dropna(axis=0)"
   ]
  },
  {
   "cell_type": "code",
   "execution_count": 154,
   "metadata": {
    "collapsed": false
   },
   "outputs": [],
   "source": [
    "size = [250*i if i>0 else 100 for i in range(29)]\n",
    "accuracy_kn = []\n",
    "accuracy_kn_ni = []\n",
    "accuracy_kn_sd = []\n",
    "accuracy_kn_ni_sd = []\n",
    "accuracy_dt = []\n",
    "accuracy_dt_ni = []\n",
    "accuracy_dt_sd = []\n",
    "accuracy_dt_ni_sd = []\n",
    "\n",
    "for n in size:\n",
    "    accuracy_kn_n = []\n",
    "    accuracy_kn_ni_n = []\n",
    "    accuracy_dt_n = []\n",
    "    accuracy_dt_ni_n = []\n",
    "    for i in range(0,50):\n",
    "        data = learner.sample(n)\n",
    "        train, test, labels_train, labels_test = train_test_split(data.drop(['Y'],1),data['Y'],\n",
    "                                                              test_size=0.20, random_state=42)\n",
    "\n",
    "\n",
    "        train_ni, test_ni, labels_train_ni, labels_test_ni = train_test_split(data.drop(['Y','index'],1),data['Y'],\n",
    "                                                              test_size=0.20, random_state=42)\n",
    "\n",
    "        model_kn = KNeighborsClassifier(3)\n",
    "        model_kn_ni = KNeighborsClassifier(3)\n",
    "        model_dt = DecisionTreeClassifier(criterion='gini',min_samples_split= 2, \n",
    "                             min_samples_leaf=1, max_depth= None, max_leaf_nodes= 5)\n",
    "        model_dt_ni = DecisionTreeClassifier(criterion='gini',min_samples_split= 2, \n",
    "                             min_samples_leaf=1, max_depth= None, max_leaf_nodes= 5)\n",
    "\n",
    "\n",
    "        \n",
    "        model_kn = model_kn.fit(train, labels_train)\n",
    "        model_kn_ni = model_kn_ni.fit(train_ni,labels_train_ni)\n",
    "        model_dt = model_dt.fit(train,labels_train)\n",
    "        model_dt_ni = model_dt_ni.fit(train_ni,labels_train_ni)\n",
    "        predict_kn = model_kn.predict(test)\n",
    "        predict_kn_ni = model_kn_ni.predict(test_ni)\n",
    "        predict_dt = model_dt.predict(test)\n",
    "        predict_dt_ni = model_dt_ni.predict(test_ni)\n",
    "        accuracy_kn_n.append(accuracy_score(labels_test, predict_kn))\n",
    "        accuracy_kn_ni_n.append(accuracy_score(labels_test_ni,predict_kn_ni))\n",
    "        accuracy_dt_n.append(accuracy_score(labels_test,predict_dt))\n",
    "        accuracy_dt_ni_n.append(accuracy_score(labels_test_ni,predict_dt_ni))\n",
    "    accuracy_kn.append(np.mean(accuracy_kn_n))\n",
    "    accuracy_kn_ni.append(np.mean(accuracy_kn_ni_n))\n",
    "    accuracy_kn_sd.append(np.std(accuracy_kn_n))\n",
    "    accuracy_kn_ni_sd.append(np.std(accuracy_kn_ni_n))\n",
    "    accuracy_dt.append(np.mean(accuracy_dt_n))\n",
    "    accuracy_dt_ni.append(np.mean(accuracy_dt_ni_n))\n",
    "    accuracy_dt_sd.append(np.std(accuracy_dt_n))\n",
    "    accuracy_dt_ni_sd.append(np.std(accuracy_dt_ni_n))"
   ]
  },
  {
   "cell_type": "code",
   "execution_count": 167,
   "metadata": {
    "collapsed": false
   },
   "outputs": [
    {
     "data": {
      "image/png": "[encoded data removed]",
      "text/plain": [
       "<matplotlib.figure.Figure at 0x1c5078d30>"
      ]
     },
     "metadata": {},
     "output_type": "display_data"
    }
   ],
   "source": [
    "fig, ax = plt.subplots(1)\n",
    "#with index\n",
    "ax.plot(size, accuracy_kn, lw=2, label='KN', color='blue')\n",
    "ax.plot(size, accuracy_dt, lw=2, label='DT', color='yellow')\n",
    "ax.fill_between(size, accuracy_kn+np.array(accuracy_kn_sd), accuracy_kn-np.array(accuracy_kn_sd),\n",
    "                facecolor='blue', alpha=0.5)\n",
    "ax.fill_between(size, accuracy_dt+np.array(accuracy_dt_sd), accuracy_dt-np.array(accuracy_dt_sd), \n",
    "                facecolor='yellow', alpha=0.5)\n",
    "#no with index\n",
    "ax.plot(size, accuracy_kn_ni, lw=2, label='KN (no index)', color='green')\n",
    "ax.plot(size, accuracy_dt_ni, lw=2, label='DT (no index)', color='gray')\n",
    "ax.fill_between(size, accuracy_kn_ni+np.array(accuracy_kn_ni_sd), accuracy_kn_ni-np.array(accuracy_kn_ni_sd),\n",
    "                facecolor='green', alpha=0.5)\n",
    "ax.fill_between(size, accuracy_dt_ni+np.array(accuracy_dt_ni_sd), accuracy_dt_ni-np.array(accuracy_dt_ni_sd), \n",
    "                facecolor='gray', alpha=0.4)\n",
    "#ax.ylim(0.5,1)\n",
    "ax.set_title('Learning curve by classifier \\n(accuracy score)')\n",
    "ax.legend(loc='lower right')\n",
    "ax.set_xlabel('sample size')\n",
    "ax.set_ylabel('accuracy')\n",
    "ax.set_ylim([0.5, 0.85])\n",
    "ax.grid()\n",
    "plt.show()"
   ]
  },
  {
   "cell_type": "markdown",
   "metadata": {},
   "source": [
    "## Tf-Idf results"
   ]
  },
  {
   "cell_type": "code",
   "execution_count": 190,
   "metadata": {
    "collapsed": true
   },
   "outputs": [],
   "source": [
    "## Print the top features for each class:\n",
    "def print_top10(vectorizer, clf,N):\n",
    "    \"\"\"Prints features with the highest coefficient values, per class\"\"\"\n",
    "    feature_names = vectorizer.get_feature_names()\n",
    "    for i, class_label in enumerate(clf.classes_):\n",
    "        top = np.argsort(clf.coef_[i])[-N:]\n",
    "        print(\"%s: %s\" % (class_label,\n",
    "              \"-\".join(feature_names[j] for j in top)))"
   ]
  },
  {
   "cell_type": "code",
   "execution_count": 191,
   "metadata": {
    "collapsed": false
   },
   "outputs": [],
   "source": [
    "## Create a dictionary with all the top features in the classes:\n",
    "def top_feat_dict(vectorizer, clf,N):\n",
    "    \"\"\"Prints features with the highest coefficient values, per class\"\"\"\n",
    "    top_feats = {}\n",
    "    feature_names = vectorizer.get_feature_names()\n",
    "    for i, class_label in enumerate(clf.classes_):\n",
    "        top = np.argsort(clf.coef_[i])[-N:]\n",
    "        top_feats['Class_' + str(class_label)] = pd.DataFrame({'Feature': [feature_names[j] for j in top],\n",
    "              'Coefficient': [clf.coef_[2][j] for j in top]})\n",
    "    return top_feats"
   ]
  },
  {
   "cell_type": "code",
   "execution_count": 192,
   "metadata": {
    "collapsed": false
   },
   "outputs": [],
   "source": [
    "def top_verb_dict(vectorizer, clf,N):\n",
    "    \"\"\"Creates a dictionary with all the top verbs in the classes\"\"\"\n",
    "    top_feats = {}\n",
    "    feature_names = vectorizer.get_feature_names()\n",
    "    verbs = [len([1 for token in nlp(feature) if token.pos_ == 'VERB']) for feature in feature_names] \n",
    "    verbs = [np.nan if x == 0 else 1 for x in verbs]\n",
    "    for i, class_label in enumerate(clf.classes_):\n",
    "        top = np.argsort([-a*b for a,b in zip(clf_bow.coef_[i],verbs)])[::-1][-N:]\n",
    "        top_feats['Class_' + str(class_label)] = pd.DataFrame({'Verb': [feature_names[j] for j in top],\n",
    "              'Coefficient': [clf.coef_[i][j] for j in top]})\n",
    "    return top_feats"
   ]
  },
  {
   "cell_type": "code",
   "execution_count": 193,
   "metadata": {
    "collapsed": false,
    "scrolled": true
   },
   "outputs": [
    {
     "name": "stdout",
     "output_type": "stream",
     "text": [
      "----------------------------------------------------------------------------------------------\n",
      "Top N features in each class: \n",
      "1: brand card-meeting-card-security master-onsite-initiative cardinal-w-org flight-ipr-create date-lunch-alpha-military-esm-fw-demo-trade-cancel-discussion-sync\n",
      "2: develop date-month-culture-high-team strategy-portal-reliability-customer-invest-program-offer-successful propn-schedule-nnb-tool-aircraft-role-increase-meet org-win contract\n",
      "3: equity project-tech operation-convert-new bpm-money-conduct alignment-auditing-penfed-p90-attract consumer-team create-public cloud-coco-message-service discovery-generate-bold-17-refine-partnership org\n",
      "4: class org-speedtest-chrome-digital repair-contribution-upgrade office-deliver awesome-awesome-propn experience-hire talent-diagnostic-employee satisfaction-org test-testing strategy-win-legal-passionate-cardinal org-org dashboard-reassign\n",
      "None\n"
     ]
    }
   ],
   "source": [
    "print(\"----------------------------------------------------------------------------------------------\")\n",
    "print(\"Top N features in each class: \")\n",
    "print(print_top10(vectorizer,clf_bow,20))"
   ]
  },
  {
   "cell_type": "code",
   "execution_count": 195,
   "metadata": {
    "collapsed": true
   },
   "outputs": [],
   "source": [
    "top_feat = top_feat_dict(vectorizer,clf_bow,5)"
   ]
  },
  {
   "cell_type": "code",
   "execution_count": 196,
   "metadata": {
    "collapsed": false
   },
   "outputs": [
    {
     "data": {
      "text/html": [
       "<div>\n",
       "<table border=\"1\" class=\"dataframe\">\n",
       "  <thead>\n",
       "    <tr style=\"text-align: right;\">\n",
       "      <th></th>\n",
       "      <th>Coefficient</th>\n",
       "      <th>Feature</th>\n",
       "    </tr>\n",
       "  </thead>\n",
       "  <tbody>\n",
       "    <tr>\n",
       "      <th>0</th>\n",
       "      <td>1.315070</td>\n",
       "      <td>generate</td>\n",
       "    </tr>\n",
       "    <tr>\n",
       "      <th>1</th>\n",
       "      <td>1.336699</td>\n",
       "      <td>bold</td>\n",
       "    </tr>\n",
       "    <tr>\n",
       "      <th>2</th>\n",
       "      <td>1.397346</td>\n",
       "      <td>17</td>\n",
       "    </tr>\n",
       "    <tr>\n",
       "      <th>3</th>\n",
       "      <td>1.411866</td>\n",
       "      <td>refine</td>\n",
       "    </tr>\n",
       "    <tr>\n",
       "      <th>4</th>\n",
       "      <td>1.461738</td>\n",
       "      <td>partnership org</td>\n",
       "    </tr>\n",
       "  </tbody>\n",
       "</table>\n",
       "</div>"
      ],
      "text/plain": [
       "   Coefficient          Feature\n",
       "0  1.315070     generate       \n",
       "1  1.336699     bold           \n",
       "2  1.397346     17             \n",
       "3  1.411866     refine         \n",
       "4  1.461738     partnership org"
      ]
     },
     "execution_count": 196,
     "metadata": {},
     "output_type": "execute_result"
    }
   ],
   "source": [
    "top_feat['Class_3']"
   ]
  },
  {
   "cell_type": "code",
   "execution_count": 197,
   "metadata": {
    "collapsed": false
   },
   "outputs": [],
   "source": [
    "top_verb = top_verb_dict(vectorizer,clf_bow,10)"
   ]
  },
  {
   "cell_type": "markdown",
   "metadata": {},
   "source": [
    "### Predict a single objective"
   ]
  },
  {
   "cell_type": "code",
   "execution_count": 424,
   "metadata": {
    "collapsed": false
   },
   "outputs": [
    {
     "data": {
      "text/plain": [
       "array([1])"
      ]
     },
     "execution_count": 424,
     "metadata": {},
     "output_type": "execute_result"
    }
   ],
   "source": [
    "pipe.predict(pd.Series('Discuss A Incs project capacity and plans'))"
   ]
  },
  {
   "cell_type": "markdown",
   "metadata": {},
   "source": [
    "## Finding patterns in original data:"
   ]
  },
  {
   "cell_type": "code",
   "execution_count": 200,
   "metadata": {
    "collapsed": true
   },
   "outputs": [],
   "source": [
    "cleantext = lambda x: cleanText(x)"
   ]
  },
  {
   "cell_type": "code",
   "execution_count": 201,
   "metadata": {
    "collapsed": false
   },
   "outputs": [],
   "source": [
    "data_text['BoW'] = data_text['X'].apply(cleantext)"
   ]
  },
  {
   "cell_type": "code",
   "execution_count": 202,
   "metadata": {
    "collapsed": false
   },
   "outputs": [
    {
     "data": {
      "text/plain": [
       "(-0.5, 399.5, 199.5, -0.5)"
      ]
     },
     "execution_count": 202,
     "metadata": {},
     "output_type": "execute_result"
    },
    {
     "data": {
      "image/png": "[encoded data removed]",
      "text/plain": [
       "<matplotlib.figure.Figure at 0x1bf00d2b0>"
      ]
     },
     "metadata": {},
     "output_type": "display_data"
    }
   ],
   "source": [
    "\"\"\"\n",
    "===============\n",
    "Generate word clouds of most common words and verbs per class:\n",
    "\"\"\"\n",
    "#class_1 = []\n",
    "#for feature, coefficient in zip(top_feat['Class_1'].Feature,top_feat['Class_1'].Coefficient):\n",
    "#    lists = [feature.replace(\" \", \"_\")]*(100+int(round(coefficient*100)))\n",
    "#    class_1 = class_1+lists\n",
    "% matplotlib inline\n",
    "\n",
    "class_1 = []\n",
    "for feature, coefficient in zip(top_feat['Class_1'].Feature,top_feat['Class_1'].Coefficient):\n",
    "    lists = [feature.replace(\" \", \"_\")]*(100+int(round(coefficient*100)))\n",
    "    class_1 = class_1+lists\n",
    "\n",
    "\n",
    "    \n",
    "def grey_color_func(word, font_size, position, orientation, random_state=None, **kwargs):\n",
    "    return \"hsl(0, 0%%, %d%%)\" % random.randint(60, 100)\n",
    "\n",
    "text = ' '.join(class_1)\n",
    "\n",
    "# Generate a word cloud image\n",
    "#wordcloud = WordCloud().generate(text)\n",
    "wordcloud = WordCloud(font_path='CaviarDreams.ttf').generate(text)\n",
    "# Display the generated image:\n",
    "# the matplotlib way:\n",
    "import matplotlib.pyplot as plt\n",
    "#plt.imshow(wordcloud)\n",
    "plt.imshow(wordcloud.recolor(color_func=grey_color_func, random_state=3))\n",
    "plt.axis(\"off\")\n",
    "\n",
    "# lower max_font_size\n",
    "#wordcloud = WordCloud(max_font_size=40).generate(text)\n",
    "#plt.figure()\n",
    "#plt.imshow(wordcloud)\n",
    "#plt.axis(\"off\")\n",
    "#plt.show()"
   ]
  },
  {
   "cell_type": "code",
   "execution_count": 209,
   "metadata": {
    "collapsed": false,
    "scrolled": true
   },
   "outputs": [],
   "source": [
    "#Feature finder!\n",
    "def feat_find(text):\n",
    "    df = data_text.loc[(data_text.loc[:,'BoW'].str.contains(text)==True),['X','Y','BoW']]\n",
    "    return df"
   ]
  },
  {
   "cell_type": "code",
   "execution_count": 212,
   "metadata": {
    "collapsed": false
   },
   "outputs": [
    {
     "data": {
      "text/html": [
       "<div>\n",
       "<table border=\"1\" class=\"dataframe\">\n",
       "  <thead>\n",
       "    <tr style=\"text-align: right;\">\n",
       "      <th></th>\n",
       "      <th>X</th>\n",
       "      <th>Y</th>\n",
       "      <th>BoW</th>\n",
       "    </tr>\n",
       "  </thead>\n",
       "  <tbody>\n",
       "    <tr>\n",
       "      <th>113</th>\n",
       "      <td>F1.1 - Develop budgeting and forecasting business metrics to inform senior leadership at the...</td>\n",
       "      <td>4</td>\n",
       "      <td>f cardinal cardinal develop budgeting and forecasting business metrics to inform senior leadership at the</td>\n",
       "    </tr>\n",
       "    <tr>\n",
       "      <th>1868</th>\n",
       "      <td>Build momentum of CLP usage through 1:1s, group trainings, and integration into WQ Operations</td>\n",
       "      <td>3</td>\n",
       "      <td>build momentum of clp usage through cardinal cardinal s group trainings and integration into wq operations</td>\n",
       "    </tr>\n",
       "    <tr>\n",
       "      <th>5060</th>\n",
       "      <td>1:1 Michelle</td>\n",
       "      <td>1</td>\n",
       "      <td>cardinal cardinal michelle</td>\n",
       "    </tr>\n",
       "    <tr>\n",
       "      <th>5149</th>\n",
       "      <td>1:1 - John/Joe</td>\n",
       "      <td>1</td>\n",
       "      <td>cardinal cardinal person</td>\n",
       "    </tr>\n",
       "    <tr>\n",
       "      <th>5536</th>\n",
       "      <td>1:1 - John/Joe</td>\n",
       "      <td>1</td>\n",
       "      <td>cardinal cardinal person</td>\n",
       "    </tr>\n",
       "    <tr>\n",
       "      <th>5824</th>\n",
       "      <td>1:1 - John/Joe</td>\n",
       "      <td>1</td>\n",
       "      <td>cardinal cardinal person</td>\n",
       "    </tr>\n",
       "    <tr>\n",
       "      <th>6084</th>\n",
       "      <td>1:1 - John/Joe</td>\n",
       "      <td>1</td>\n",
       "      <td>cardinal cardinal person</td>\n",
       "    </tr>\n",
       "    <tr>\n",
       "      <th>6403</th>\n",
       "      <td>1:1 - John/Joe</td>\n",
       "      <td>1</td>\n",
       "      <td>cardinal cardinal person</td>\n",
       "    </tr>\n",
       "    <tr>\n",
       "      <th>6874</th>\n",
       "      <td>Invitation: Rainforest/ CrossLead Onboarding @ Mon Jan 9, 2017 2:30pm - 3:30pm (Christian Yang)</td>\n",
       "      <td>1</td>\n",
       "      <td>invitation rainforest propn propn mon jan 9 2017 2 cardinal 0pm cardinal cardinal 0pm norp yang</td>\n",
       "    </tr>\n",
       "    <tr>\n",
       "      <th>7046</th>\n",
       "      <td>1:1 - John/Joe</td>\n",
       "      <td>1</td>\n",
       "      <td>cardinal cardinal person</td>\n",
       "    </tr>\n",
       "    <tr>\n",
       "      <th>7117</th>\n",
       "      <td>Invitation: Rainforest//CrossLeads @ Tue Jan 17, 2017 2:30pm - 3:30pm (Christian Yang)</td>\n",
       "      <td>1</td>\n",
       "      <td>invitation rainforest propn tue jan 17 2017 2 cardinal 0pm cardinal cardinal 0pm norp yang</td>\n",
       "    </tr>\n",
       "  </tbody>\n",
       "</table>\n",
       "</div>"
      ],
      "text/plain": [
       "                                                                                                    X  \\\n",
       "113   F1.1 - Develop budgeting and forecasting business metrics to inform senior leadership at the...   \n",
       "1868  Build momentum of CLP usage through 1:1s, group trainings, and integration into WQ Operations     \n",
       "5060  1:1 Michelle                                                                                      \n",
       "5149  1:1 - John/Joe                                                                                    \n",
       "5536  1:1 - John/Joe                                                                                    \n",
       "5824  1:1 - John/Joe                                                                                    \n",
       "6084  1:1 - John/Joe                                                                                    \n",
       "6403  1:1 - John/Joe                                                                                    \n",
       "6874  Invitation: Rainforest/ CrossLead Onboarding @ Mon Jan 9, 2017 2:30pm - 3:30pm (Christian Yang)   \n",
       "7046  1:1 - John/Joe                                                                                    \n",
       "7117  Invitation: Rainforest//CrossLeads @ Tue Jan 17, 2017 2:30pm - 3:30pm (Christian Yang)            \n",
       "\n",
       "      Y  \\\n",
       "113   4   \n",
       "1868  3   \n",
       "5060  1   \n",
       "5149  1   \n",
       "5536  1   \n",
       "5824  1   \n",
       "6084  1   \n",
       "6403  1   \n",
       "6874  1   \n",
       "7046  1   \n",
       "7117  1   \n",
       "\n",
       "                                                                                                             BoW  \n",
       "113   f cardinal cardinal develop budgeting and forecasting business metrics to inform senior leadership at the   \n",
       "1868  build momentum of clp usage through cardinal cardinal s group trainings and integration into wq operations  \n",
       "5060   cardinal cardinal michelle                                                                                 \n",
       "5149   cardinal cardinal person                                                                                   \n",
       "5536   cardinal cardinal person                                                                                   \n",
       "5824   cardinal cardinal person                                                                                   \n",
       "6084   cardinal cardinal person                                                                                   \n",
       "6403   cardinal cardinal person                                                                                   \n",
       "6874  invitation rainforest propn propn mon jan 9 2017 2 cardinal 0pm cardinal cardinal 0pm norp yang             \n",
       "7046   cardinal cardinal person                                                                                   \n",
       "7117  invitation rainforest propn tue jan 17 2017 2 cardinal 0pm cardinal cardinal 0pm norp yang                  "
      ]
     },
     "execution_count": 212,
     "metadata": {},
     "output_type": "execute_result"
    }
   ],
   "source": [
    "feat_find('cardinal cardinal')"
   ]
  },
  {
   "cell_type": "code",
   "execution_count": 204,
   "metadata": {
    "collapsed": true
   },
   "outputs": [],
   "source": [
    "def plot_confusion_matrix(cm, classes,\n",
    "                          normalize=True,\n",
    "                          title='Confusion matrix',\n",
    "                          cmap=plt.cm.Blues):\n",
    "    \"\"\"\n",
    "    This function prints and plots the confusion matrix.\n",
    "    Normalization can be applied by setting `normalize=True`.\n",
    "    \"\"\"\n",
    "    plt.imshow(cm, interpolation='nearest', cmap=cmap)\n",
    "    plt.title(title)\n",
    "    plt.colorbar()\n",
    "    tick_marks = np.arange(len(classes))\n",
    "    plt.xticks(tick_marks, classes, rotation=45)\n",
    "    plt.yticks(tick_marks, classes)\n",
    "\n",
    "    if normalize:\n",
    "        cm = cm.astype('float') / cm.sum(axis=1)[:, np.newaxis]\n",
    "        cm = cm.round(2)\n",
    "        print(\"Normalized confusion matrix\")\n",
    "    else:\n",
    "        print('Confusion matrix, without normalization')\n",
    "\n",
    "    print(cm)\n",
    "\n",
    "    thresh = cm.max() / 2.\n",
    "    for i, j in itertools.product(range(cm.shape[0]), range(cm.shape[1])):\n",
    "        plt.text(j, i, cm[i, j],\n",
    "                 horizontalalignment=\"center\",\n",
    "                 color=\"white\" if cm[i, j] > thresh else \"black\")\n",
    "\n",
    "    plt.tight_layout()\n",
    "    plt.ylabel('True label')\n",
    "    plt.xlabel('Predicted label')"
   ]
  },
  {
   "cell_type": "code",
   "execution_count": 208,
   "metadata": {
    "collapsed": false
   },
   "outputs": [
    {
     "name": "stdout",
     "output_type": "stream",
     "text": [
      "Normalized confusion matrix\n",
      "[[ 0.94  0.03  0.02  0.01]\n",
      " [ 0.07  0.86  0.04  0.03]\n",
      " [ 0.12  0.3   0.4   0.18]\n",
      " [ 0.15  0.24  0.21  0.4 ]]\n"
     ]
    },
    {
     "data": {
      "image/png": "[encoded data removed]",
      "text/plain": [
       "<matplotlib.figure.Figure at 0x1b847d780>"
      ]
     },
     "metadata": {},
     "output_type": "display_data"
    }
   ],
   "source": [
    "# Compute confusion matrix\n",
    "cnf_matrix = confusion_matrix(labels_test, predict_kn)\n",
    "np.set_printoptions(precision=3)\n",
    "\n",
    "# Plot non-normalized confusion matrix\n",
    "#plt.figure()\n",
    "#plot_confusion_matrix(cnf_matrix, classes=[0,1],\n",
    "#title='Confusion matrix, without normalization')\n",
    "\n",
    "# Plot normalized confusion matrix\n",
    "plt.figure()\n",
    "plot_confusion_matrix(cnf_matrix, classes=['Forgotten','Zero','Less than half','More than half'], normalize=True,\n",
    "                      title='Normalized confusion matrix')\n",
    "\n",
    "plt.show()"
   ]
  },
  {
   "cell_type": "markdown",
   "metadata": {},
   "source": [
    "## Feature importance"
   ]
  },
  {
   "cell_type": "markdown",
   "metadata": {},
   "source": [
    "Let's go back to the tree model and do a little feature importance. Let's take the cross-validated tree parameters, and play around with the features to see which ones are more important. We can run it with different features and then plot the accuracy score and the relative feature importances. We learn:\n",
    "    - If we run the whole feature set, the most important, by far is the prediction from the other model"
   ]
  },
  {
   "cell_type": "code",
   "execution_count": 226,
   "metadata": {
    "collapsed": false
   },
   "outputs": [],
   "source": [
    "X_stacked.columns = ['BoW','len_token','max_stree','perc_ents','perc_propn','perc_nounch','perc_oov','perc_num', \n",
    "                    'kf_score','fam_score','conc_score','imag_score','perc_kf','index','watchers','dependenciesN', \n",
    "                     'label_initiative','label_metric','label_objective','label_other','label_pvvm','label_strategy',\n",
    "                     'order','Info','Energy','Access']"
   ]
  },
  {
   "cell_type": "code",
   "execution_count": 228,
   "metadata": {
    "collapsed": true
   },
   "outputs": [],
   "source": [
    "syntax_cols = ['len_token','max_stree','perc_ents','perc_propn','perc_nounch','perc_oov','perc_num']\n",
    "pl_cols = ['kf_score','fam_score','conc_score','imag_score','perc_kf']\n",
    "num_feat_cols = ['watchers','dependenciesN', \n",
    "                     'label_initiative','label_metric','label_objective','label_other','label_pvvm','label_strategy',\n",
    "                     'order','Info','Energy','Access']"
   ]
  },
  {
   "cell_type": "code",
   "execution_count": 229,
   "metadata": {
    "collapsed": false
   },
   "outputs": [],
   "source": [
    "subfeats = {'Syntax':syntax_cols,'PL': pl_cols, 'num_feat_cols': num_feat_cols }"
   ]
  },
  {
   "cell_type": "code",
   "execution_count": 265,
   "metadata": {
    "collapsed": true
   },
   "outputs": [],
   "source": [
    "def plot_subfeats(list_):\n",
    "    clf = DecisionTreeClassifier(criterion='gini',min_samples_split= 2, \n",
    "                             min_samples_leaf=1, max_depth= None, max_leaf_nodes= 5)\n",
    "    clf.fit(X_stacked[list_],data_feat.Y)\n",
    "    acc = clf.score(X_stacked[list_],data_feat.Y)\n",
    "    \n",
    "    fig, ax = plt.subplots()\n",
    "    width=0.35\n",
    "    textstr = 'Accuracy score=%.2f\\n'%(acc)\n",
    "    ax.bar(np.arange(len(clf.feature_importances_)), clf.feature_importances_, width, color='g')\n",
    "    ax.set_xticks(np.arange(len(clf.feature_importances_)))\n",
    "    ax.set_xticklabels(X_stacked[list_].columns.values,rotation=90)\n",
    "    props = dict(boxstyle='round', facecolor='wheat', alpha=0.5)\n",
    "    ax.text(0.5, 0.5, textstr, transform=ax.transAxes, fontsize=14,\n",
    "        verticalalignment='top', bbox=props)\n",
    "    plt.title('Feature Importance from Decision Tree')\n",
    "    ax.set_ylabel('Normalized Gini Importance')"
   ]
  },
  {
   "cell_type": "code",
   "execution_count": 274,
   "metadata": {
    "collapsed": false
   },
   "outputs": [
    {
     "data": {
      "image/png": "[encoded data removed]",
      "text/plain": [
       "<matplotlib.figure.Figure at 0x1b83217b8>"
      ]
     },
     "metadata": {},
     "output_type": "display_data"
    }
   ],
   "source": [
    "#plot_subfeats(subfeats['num_feat_cols'])\n",
    "plot_subfeats(subfeats['num_feat_cols']+['BoW'])"
   ]
  },
  {
   "cell_type": "code",
   "execution_count": 275,
   "metadata": {
    "collapsed": false
   },
   "outputs": [
    {
     "data": {
      "text/plain": [
       "1    0.382902\n",
       "2    0.360485\n",
       "3    0.136174\n",
       "4    0.120440\n",
       "Name: Y, dtype: float64"
      ]
     },
     "execution_count": 275,
     "metadata": {},
     "output_type": "execute_result"
    }
   ],
   "source": [
    "data_feat.Y.value_counts()/data_feat.shape[0]"
   ]
  },
  {
   "cell_type": "code",
   "execution_count": null,
   "metadata": {
    "collapsed": true
   },
   "outputs": [],
   "source": []
  }
 ],
 "metadata": {
  "anaconda-cloud": {},
  "kernelspec": {
   "display_name": "Python [conda env:python3_env]",
   "language": "python",
   "name": "conda-env-python3_env-py"
  },
  "language_info": {
   "codemirror_mode": {
    "name": "ipython",
    "version": 3
   },
   "file_extension": ".py",
   "mimetype": "text/x-python",
   "name": "python",
   "nbconvert_exporter": "python",
   "pygments_lexer": "ipython3",
   "version": "3.5.2"
  }
 },
 "nbformat": 4,
 "nbformat_minor": 1
}
